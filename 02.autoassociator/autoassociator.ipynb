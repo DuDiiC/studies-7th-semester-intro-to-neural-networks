{
 "cells": [
  {
   "cell_type": "code",
   "execution_count": 1,
   "metadata": {
    "executionInfo": {
     "elapsed": 1160,
     "status": "ok",
     "timestamp": 1603896107073,
     "user": {
      "displayName": "DuDiiC",
      "photoUrl": "https://lh6.googleusercontent.com/-2FfMjEDSAkQ/AAAAAAAAAAI/AAAAAAAAB-0/38kvRzPlWh4/s64/photo.jpg",
      "userId": "03134040302663534720"
     },
     "user_tz": -60
    },
    "id": "X1KN7iFUAZY6"
   },
   "outputs": [],
   "source": [
    "import numpy as np\n",
    "from PIL import Image\n",
    "import matplotlib.pyplot as plt\n",
    "IMAGES_NUMBER = 5\n",
    "LEARNING_RATE = 0.01"
   ]
  },
  {
   "cell_type": "code",
   "execution_count": 2,
   "metadata": {
    "executionInfo": {
     "elapsed": 1149,
     "status": "ok",
     "timestamp": 1603896107075,
     "user": {
      "displayName": "DuDiiC",
      "photoUrl": "https://lh6.googleusercontent.com/-2FfMjEDSAkQ/AAAAAAAAAAI/AAAAAAAAB-0/38kvRzPlWh4/s64/photo.jpg",
      "userId": "03134040302663534720"
     },
     "user_tz": -60
    },
    "id": "PIg0A057J-rL"
   },
   "outputs": [],
   "source": [
    "# image jako numpy array\n",
    "def show_img(image):\n",
    "  %matplotlib inline\n",
    "  plt.imshow(image)\n",
    "  plt.show()"
   ]
  },
  {
   "cell_type": "code",
   "execution_count": 3,
   "metadata": {
    "executionInfo": {
     "elapsed": 1139,
     "status": "ok",
     "timestamp": 1603896107076,
     "user": {
      "displayName": "DuDiiC",
      "photoUrl": "https://lh6.googleusercontent.com/-2FfMjEDSAkQ/AAAAAAAAAAI/AAAAAAAAB-0/38kvRzPlWh4/s64/photo.jpg",
      "userId": "03134040302663534720"
     },
     "user_tz": -60
    },
    "id": "ptW5t7LsOEB_"
   },
   "outputs": [],
   "source": [
    "# image jako numpy array\n",
    "def noise_img(image, procent):\n",
    "  noised_image = np.copy(image)\n",
    "  for i in range(int(image.shape[0] * procent * 0.01)):\n",
    "    rand = np.random.randint(image.shape[0])\n",
    "    noised_image[rand] = image[rand] * -1\n",
    "  return noised_image"
   ]
  },
  {
   "cell_type": "markdown",
   "metadata": {
    "id": "spbGg0YVQ1h1"
   },
   "source": [
    "# Wczytanie danych uczących"
   ]
  },
  {
   "cell_type": "code",
   "execution_count": 4,
   "metadata": {
    "executionInfo": {
     "elapsed": 1526,
     "status": "ok",
     "timestamp": 1603896107479,
     "user": {
      "displayName": "DuDiiC",
      "photoUrl": "https://lh6.googleusercontent.com/-2FfMjEDSAkQ/AAAAAAAAAAI/AAAAAAAAB-0/38kvRzPlWh4/s64/photo.jpg",
      "userId": "03134040302663534720"
     },
     "user_tz": -60
    },
    "id": "una7UvP1GjpS"
   },
   "outputs": [],
   "source": [
    "images = [ Image.open(f'images/{i}.png').convert('L') for i in range(IMAGES_NUMBER) ]"
   ]
  },
  {
   "cell_type": "markdown",
   "metadata": {
    "id": "j39gPBnZRBJ9"
   },
   "source": [
    "Dla sprawdzenia rysowanie jednego z obrazków"
   ]
  },
  {
   "cell_type": "code",
   "execution_count": 5,
   "metadata": {
    "colab": {
     "base_uri": "https://localhost:8080/",
     "height": 267
    },
    "executionInfo": {
     "elapsed": 1517,
     "status": "ok",
     "timestamp": 1603896107481,
     "user": {
      "displayName": "DuDiiC",
      "photoUrl": "https://lh6.googleusercontent.com/-2FfMjEDSAkQ/AAAAAAAAAAI/AAAAAAAAB-0/38kvRzPlWh4/s64/photo.jpg",
      "userId": "03134040302663534720"
     },
     "user_tz": -60
    },
    "id": "sygWGzgkJhba",
    "outputId": "640ef0b0-8fb7-4266-dee1-5e73c2c521a9"
   },
   "outputs": [
    {
     "data": {
      "image/png": "[encoded data removed]",
      "text/plain": [
       "<Figure size 432x288 with 1 Axes>"
      ]
     },
     "metadata": {
      "needs_background": "light"
     },
     "output_type": "display_data"
    }
   ],
   "source": [
    "show_img(images[0])"
   ]
  },
  {
   "cell_type": "markdown",
   "metadata": {
    "id": "JEi0nG9qQwWF"
   },
   "source": [
    "Konwersja obrazka do tablicy numpy\n",
    "\n",
    "- wczytanie z pliku\n",
    "- konwersja z RGB do szarego obrazku\n",
    "- wpisanie do tablicy numpy i spłaszczenie tablicy dwywymiarowej\n",
    "- zamiast przechowywania kolory, przechowanie informacji 1 dla piksela czarnego oraz -1 dla białego\n",
    "- rozszerzenie wektora o dodatkowe jedynki, żeby wymiary dla theta były zgodne"
   ]
  },
  {
   "cell_type": "code",
   "execution_count": 6,
   "metadata": {
    "colab": {
     "base_uri": "https://localhost:8080/",
     "height": 102
    },
    "executionInfo": {
     "elapsed": 1500,
     "status": "ok",
     "timestamp": 1603896107482,
     "user": {
      "displayName": "DuDiiC",
      "photoUrl": "https://lh6.googleusercontent.com/-2FfMjEDSAkQ/AAAAAAAAAAI/AAAAAAAAB-0/38kvRzPlWh4/s64/photo.jpg",
      "userId": "03134040302663534720"
     },
     "user_tz": -60
    },
    "id": "GLsQGrObHCG3",
    "outputId": "0d846a2f-d3d1-47f0-c6f8-863ddfeb2925"
   },
   "outputs": [
    {
     "data": {
      "text/plain": [
       "[array([-1, -1, -1, ..., -1, -1,  1]),\n",
       " array([-1, -1, -1, ..., -1, -1,  1]),\n",
       " array([-1, -1, -1, ..., -1, -1,  1]),\n",
       " array([-1, -1, -1, ..., -1, -1,  1]),\n",
       " array([1, 1, 1, ..., 1, 1, 1])]"
      ]
     },
     "execution_count": 6,
     "metadata": {},
     "output_type": "execute_result"
    }
   ],
   "source": [
    "images = [ Image.open(f'images/{i}.png').convert('L') for i in range(IMAGES_NUMBER) ]\n",
    "examples = [ np.where(np.asarray(images[i]).flatten() == 0, 1, -1) for i in range(IMAGES_NUMBER) ]\n",
    "for i in range(IMAGES_NUMBER):\n",
    "  examples[i] = np.append(examples[i], 1)\n",
    "examples"
   ]
  },
  {
   "cell_type": "code",
   "execution_count": 7,
   "metadata": {
    "colab": {
     "base_uri": "https://localhost:8080/",
     "height": 267
    },
    "executionInfo": {
     "elapsed": 1473,
     "status": "ok",
     "timestamp": 1603896107483,
     "user": {
      "displayName": "DuDiiC",
      "photoUrl": "https://lh6.googleusercontent.com/-2FfMjEDSAkQ/AAAAAAAAAAI/AAAAAAAAB-0/38kvRzPlWh4/s64/photo.jpg",
      "userId": "03134040302663534720"
     },
     "user_tz": -60
    },
    "id": "Q112E6znQHvc",
    "outputId": "07dc511c-1cc7-4fad-c887-ba0172802bed"
   },
   "outputs": [
    {
     "data": {
      "image/png": "[encoded data removed]",
      "text/plain": [
       "<Figure size 432x288 with 1 Axes>"
      ]
     },
     "metadata": {
      "needs_background": "light"
     },
     "output_type": "display_data"
    }
   ],
   "source": [
    "show_img(examples[0][:-1].reshape(50, 50))"
   ]
  },
  {
   "cell_type": "markdown",
   "metadata": {
    "id": "hXP_x29vSTjR"
   },
   "source": [
    "# Idea uczenia"
   ]
  },
  {
   "cell_type": "markdown",
   "metadata": {
    "id": "_YFJN3qa5wpd"
   },
   "source": [
    "`W` jest wektorem wag dla wszystkich perceptronów - każdy z 2500 perceptronów ma 2501 wag (dodana theta)"
   ]
  },
  {
   "cell_type": "code",
   "execution_count": 8,
   "metadata": {
    "colab": {
     "base_uri": "https://localhost:8080/",
     "height": 238
    },
    "executionInfo": {
     "elapsed": 1957,
     "status": "ok",
     "timestamp": 1603896107984,
     "user": {
      "displayName": "DuDiiC",
      "photoUrl": "https://lh6.googleusercontent.com/-2FfMjEDSAkQ/AAAAAAAAAAI/AAAAAAAAB-0/38kvRzPlWh4/s64/photo.jpg",
      "userId": "03134040302663534720"
     },
     "user_tz": -60
    },
    "id": "vpF4t2flfvJC",
    "outputId": "3858287f-32f5-46de-89bb-f31a72a42f88"
   },
   "outputs": [
    {
     "data": {
      "text/plain": [
       "array([[0.48133151, 0.9963874 , 0.95584365, ..., 0.03609213, 0.27492086,\n",
       "        0.58426181],\n",
       "       [0.49684186, 0.32853092, 0.92277036, ..., 0.36787785, 0.0206053 ,\n",
       "        0.57382444],\n",
       "       [0.47372786, 0.65136792, 0.86998828, ..., 0.97674924, 0.82062708,\n",
       "        0.21101273],\n",
       "       ...,\n",
       "       [0.2647284 , 0.3884361 , 0.9435891 , ..., 0.04080689, 0.02752637,\n",
       "        0.68558579],\n",
       "       [0.05181719, 0.96472253, 0.9899489 , ..., 0.90149283, 0.59321303,\n",
       "        0.52597822],\n",
       "       [0.11148388, 0.02313989, 0.42063629, ..., 0.33140319, 0.75880124,\n",
       "        0.55744509]])"
      ]
     },
     "execution_count": 8,
     "metadata": {},
     "output_type": "execute_result"
    }
   ],
   "source": [
    "W = np.random.rand(2500, 2501) # wagi perceptronów  \n",
    "W"
   ]
  },
  {
   "cell_type": "code",
   "execution_count": 9,
   "metadata": {
    "colab": {
     "base_uri": "https://localhost:8080/",
     "height": 34
    },
    "executionInfo": {
     "elapsed": 1943,
     "status": "ok",
     "timestamp": 1603896107986,
     "user": {
      "displayName": "DuDiiC",
      "photoUrl": "https://lh6.googleusercontent.com/-2FfMjEDSAkQ/AAAAAAAAAAI/AAAAAAAAB-0/38kvRzPlWh4/s64/photo.jpg",
      "userId": "03134040302663534720"
     },
     "user_tz": -60
    },
    "id": "qOB914WkocDC",
    "outputId": "ec68be61-513f-47e7-ec55-b90fa6ffa06a"
   },
   "outputs": [
    {
     "data": {
      "text/plain": [
       "(2500, 2501)"
      ]
     },
     "execution_count": 9,
     "metadata": {},
     "output_type": "execute_result"
    }
   ],
   "source": [
    "W.shape"
   ]
  },
  {
   "cell_type": "code",
   "execution_count": 10,
   "metadata": {
    "colab": {
     "base_uri": "https://localhost:8080/",
     "height": 34
    },
    "executionInfo": {
     "elapsed": 1914,
     "status": "ok",
     "timestamp": 1603896107988,
     "user": {
      "displayName": "DuDiiC",
      "photoUrl": "https://lh6.googleusercontent.com/-2FfMjEDSAkQ/AAAAAAAAAAI/AAAAAAAAB-0/38kvRzPlWh4/s64/photo.jpg",
      "userId": "03134040302663534720"
     },
     "user_tz": -60
    },
    "id": "TXUiAwW2odUI",
    "outputId": "82a4cad4-2bb7-4f92-a96a-5c6e63acbe75"
   },
   "outputs": [
    {
     "data": {
      "text/plain": [
       "(2501,)"
      ]
     },
     "execution_count": 10,
     "metadata": {},
     "output_type": "execute_result"
    }
   ],
   "source": [
    "examples[0].shape"
   ]
  },
  {
   "cell_type": "markdown",
   "metadata": {
    "id": "wgWcIqK_55XG"
   },
   "source": [
    "`Y` jest sumą (po wierszach) przemnożenia aktualnych wag przez wartości przykładów"
   ]
  },
  {
   "cell_type": "code",
   "execution_count": 11,
   "metadata": {
    "colab": {
     "base_uri": "https://localhost:8080/",
     "height": 51
    },
    "executionInfo": {
     "elapsed": 1894,
     "status": "ok",
     "timestamp": 1603896107989,
     "user": {
      "displayName": "DuDiiC",
      "photoUrl": "https://lh6.googleusercontent.com/-2FfMjEDSAkQ/AAAAAAAAAAI/AAAAAAAAB-0/38kvRzPlWh4/s64/photo.jpg",
      "userId": "03134040302663534720"
     },
     "user_tz": -60
    },
    "id": "EFIFOfBWoesi",
    "outputId": "00332fa0-dd28-47dd-83d2-385ed79544ff"
   },
   "outputs": [
    {
     "data": {
      "text/plain": [
       "array([-1082.52906615, -1105.83927599, -1098.94278713, ...,\n",
       "       -1115.10954098, -1099.48643159, -1087.72538206])"
      ]
     },
     "execution_count": 11,
     "metadata": {},
     "output_type": "execute_result"
    }
   ],
   "source": [
    "Y = np.sum(W * examples[0], axis=1)\n",
    "Y"
   ]
  },
  {
   "cell_type": "code",
   "execution_count": 12,
   "metadata": {
    "colab": {
     "base_uri": "https://localhost:8080/",
     "height": 34
    },
    "executionInfo": {
     "elapsed": 1866,
     "status": "ok",
     "timestamp": 1603896107990,
     "user": {
      "displayName": "DuDiiC",
      "photoUrl": "https://lh6.googleusercontent.com/-2FfMjEDSAkQ/AAAAAAAAAAI/AAAAAAAAB-0/38kvRzPlWh4/s64/photo.jpg",
      "userId": "03134040302663534720"
     },
     "user_tz": -60
    },
    "id": "C00DrptQyzw4",
    "outputId": "4112d192-fd55-448d-8cd7-c4d39ebddda6"
   },
   "outputs": [
    {
     "data": {
      "text/plain": [
       "(2500,)"
      ]
     },
     "execution_count": 12,
     "metadata": {},
     "output_type": "execute_result"
    }
   ],
   "source": [
    "Y.shape"
   ]
  },
  {
   "cell_type": "markdown",
   "metadata": {
    "id": "z6bi95gK6JMg"
   },
   "source": [
    "`O` jest wynikiem działania funkcji aktywacji dla każdego z perceptronów"
   ]
  },
  {
   "cell_type": "code",
   "execution_count": 13,
   "metadata": {
    "colab": {
     "base_uri": "https://localhost:8080/",
     "height": 34
    },
    "executionInfo": {
     "elapsed": 1849,
     "status": "ok",
     "timestamp": 1603896107994,
     "user": {
      "displayName": "DuDiiC",
      "photoUrl": "https://lh6.googleusercontent.com/-2FfMjEDSAkQ/AAAAAAAAAAI/AAAAAAAAB-0/38kvRzPlWh4/s64/photo.jpg",
      "userId": "03134040302663534720"
     },
     "user_tz": -60
    },
    "id": "Hnl3Ba3GyzBV",
    "outputId": "dc05d341-ebf5-4ef7-9682-c7407530b24d"
   },
   "outputs": [
    {
     "data": {
      "text/plain": [
       "array([-1, -1, -1, ..., -1, -1, -1])"
      ]
     },
     "execution_count": 13,
     "metadata": {},
     "output_type": "execute_result"
    }
   ],
   "source": [
    "O = np.where(Y > 0, 1, -1)\n",
    "O"
   ]
  },
  {
   "cell_type": "markdown",
   "metadata": {
    "id": "85mkvYND6W64"
   },
   "source": [
    "Obliczenie funkcji błędu dla każdego z perceptronów"
   ]
  },
  {
   "cell_type": "code",
   "execution_count": 14,
   "metadata": {
    "colab": {
     "base_uri": "https://localhost:8080/",
     "height": 34
    },
    "executionInfo": {
     "elapsed": 1823,
     "status": "ok",
     "timestamp": 1603896107997,
     "user": {
      "displayName": "DuDiiC",
      "photoUrl": "https://lh6.googleusercontent.com/-2FfMjEDSAkQ/AAAAAAAAAAI/AAAAAAAAB-0/38kvRzPlWh4/s64/photo.jpg",
      "userId": "03134040302663534720"
     },
     "user_tz": -60
    },
    "id": "iFmpiS1tzfUd",
    "outputId": "18e9cbea-0601-40b7-9b62-b1c599d47ebf"
   },
   "outputs": [
    {
     "data": {
      "text/plain": [
       "array([0, 0, 0, ..., 0, 0, 0])"
      ]
     },
     "execution_count": 14,
     "metadata": {},
     "output_type": "execute_result"
    }
   ],
   "source": [
    "ERR = O - examples[0][:-1]\n",
    "ERR"
   ]
  },
  {
   "cell_type": "code",
   "execution_count": 15,
   "metadata": {
    "colab": {
     "base_uri": "https://localhost:8080/",
     "height": 34
    },
    "executionInfo": {
     "elapsed": 1801,
     "status": "ok",
     "timestamp": 1603896107999,
     "user": {
      "displayName": "DuDiiC",
      "photoUrl": "https://lh6.googleusercontent.com/-2FfMjEDSAkQ/AAAAAAAAAAI/AAAAAAAAB-0/38kvRzPlWh4/s64/photo.jpg",
      "userId": "03134040302663534720"
     },
     "user_tz": -60
    },
    "id": "iiPLkv056cYX",
    "outputId": "1aa7584f-2614-4679-bff8-8c1eacd539e1"
   },
   "outputs": [
    {
     "data": {
      "text/plain": [
       "(2500,)"
      ]
     },
     "execution_count": 15,
     "metadata": {},
     "output_type": "execute_result"
    }
   ],
   "source": [
    "ERR.shape"
   ]
  },
  {
   "cell_type": "markdown",
   "metadata": {
    "id": "ZGiUV3Fb6iTu"
   },
   "source": [
    "`T` będzie wektorem, który odpowiada za uczenie - jeśli dla perceptronu `i`, `T[i] == 1` to perceptron uczy się poprawnie, w przeciwnym wypadku należy poprawić wagi"
   ]
  },
  {
   "cell_type": "code",
   "execution_count": 16,
   "metadata": {
    "colab": {
     "base_uri": "https://localhost:8080/",
     "height": 34
    },
    "executionInfo": {
     "elapsed": 1785,
     "status": "ok",
     "timestamp": 1603896108000,
     "user": {
      "displayName": "DuDiiC",
      "photoUrl": "https://lh6.googleusercontent.com/-2FfMjEDSAkQ/AAAAAAAAAAI/AAAAAAAAB-0/38kvRzPlWh4/s64/photo.jpg",
      "userId": "03134040302663534720"
     },
     "user_tz": -60
    },
    "id": "2KyjIGsSzqPg",
    "outputId": "af161756-bbfa-4ac2-9fe8-838e692c5013"
   },
   "outputs": [
    {
     "data": {
      "text/plain": [
       "array([0., 0., 0., ..., 0., 0., 0.])"
      ]
     },
     "execution_count": 16,
     "metadata": {},
     "output_type": "execute_result"
    }
   ],
   "source": [
    "T = np.zeros(2500)\n",
    "T"
   ]
  },
  {
   "cell_type": "code",
   "execution_count": 17,
   "metadata": {
    "colab": {
     "base_uri": "https://localhost:8080/",
     "height": 34
    },
    "executionInfo": {
     "elapsed": 1771,
     "status": "ok",
     "timestamp": 1603896108002,
     "user": {
      "displayName": "DuDiiC",
      "photoUrl": "https://lh6.googleusercontent.com/-2FfMjEDSAkQ/AAAAAAAAAAI/AAAAAAAAB-0/38kvRzPlWh4/s64/photo.jpg",
      "userId": "03134040302663534720"
     },
     "user_tz": -60
    },
    "id": "0cGLhId85TgS",
    "outputId": "56a6cb5b-6381-4c9a-b7e4-ef5aa5f0d5d6"
   },
   "outputs": [
    {
     "data": {
      "text/plain": [
       "array([1., 1., 1., ..., 1., 1., 1.])"
      ]
     },
     "execution_count": 17,
     "metadata": {},
     "output_type": "execute_result"
    }
   ],
   "source": [
    "T[ERR == 0] = 1\n",
    "T"
   ]
  },
  {
   "cell_type": "code",
   "execution_count": 18,
   "metadata": {
    "executionInfo": {
     "elapsed": 1755,
     "status": "ok",
     "timestamp": 1603896108003,
     "user": {
      "displayName": "DuDiiC",
      "photoUrl": "https://lh6.googleusercontent.com/-2FfMjEDSAkQ/AAAAAAAAAAI/AAAAAAAAB-0/38kvRzPlWh4/s64/photo.jpg",
      "userId": "03134040302663534720"
     },
     "user_tz": -60
    },
    "id": "Pd9ZhlK45Xja"
   },
   "outputs": [],
   "source": [
    "for i in range(2500):\n",
    "  if(T[i] == 0):\n",
    "    W[i][:-1] += LEARNING_RATE * ERR[i] * examples[0][:-1]\n",
    "    W[i][2500] += LEARNING_RATE * ERR[i]"
   ]
  },
  {
   "cell_type": "markdown",
   "metadata": {
    "id": "iumUXrIcSA0x"
   },
   "source": [
    "# Uczenie perceptronów"
   ]
  },
  {
   "cell_type": "code",
   "execution_count": 19,
   "metadata": {
    "colab": {
     "base_uri": "https://localhost:8080/",
     "height": 238
    },
    "executionInfo": {
     "elapsed": 1721,
     "status": "ok",
     "timestamp": 1603896108007,
     "user": {
      "displayName": "DuDiiC",
      "photoUrl": "https://lh6.googleusercontent.com/-2FfMjEDSAkQ/AAAAAAAAAAI/AAAAAAAAB-0/38kvRzPlWh4/s64/photo.jpg",
      "userId": "03134040302663534720"
     },
     "user_tz": -60
    },
    "id": "wcfDLsIASxsW",
    "outputId": "9e70aecf-4acf-456f-f7cf-cb74d050966b"
   },
   "outputs": [
    {
     "data": {
      "text/plain": [
       "array([[0.23584545, 0.85630987, 0.44612577, ..., 0.30210375, 0.10363791,\n",
       "        0.74253879],\n",
       "       [0.06290806, 0.79258546, 0.52610369, ..., 0.53056679, 0.01825166,\n",
       "        0.44064182],\n",
       "       [0.51801136, 0.43951229, 0.70672233, ..., 0.48366068, 0.42958707,\n",
       "        0.63977726],\n",
       "       ...,\n",
       "       [0.11928203, 0.38905637, 0.7743569 , ..., 0.66319066, 0.53129524,\n",
       "        0.82376857],\n",
       "       [0.77061512, 0.72737501, 0.71735988, ..., 0.7121916 , 0.7975909 ,\n",
       "        0.2412258 ],\n",
       "       [0.4920352 , 0.76425598, 0.90379158, ..., 0.60548287, 0.93977841,\n",
       "        0.00960486]])"
      ]
     },
     "execution_count": 19,
     "metadata": {},
     "output_type": "execute_result"
    }
   ],
   "source": [
    "W = np.random.rand(2500, 2501) # wagi perceptronów  \n",
    "W"
   ]
  },
  {
   "cell_type": "code",
   "execution_count": 20,
   "metadata": {
    "executionInfo": {
     "elapsed": 9221,
     "status": "ok",
     "timestamp": 1603896115532,
     "user": {
      "displayName": "DuDiiC",
      "photoUrl": "https://lh6.googleusercontent.com/-2FfMjEDSAkQ/AAAAAAAAAAI/AAAAAAAAB-0/38kvRzPlWh4/s64/photo.jpg",
      "userId": "03134040302663534720"
     },
     "user_tz": -60
    },
    "id": "hUrASNkpBIDw"
   },
   "outputs": [],
   "source": [
    "for iterator in range(1000):                                                    # ile razy uczyć\n",
    "  i = np.random.randint(0, IMAGES_NUMBER)                                       # dla każdego obrazka\n",
    "  Y = np.dot(W, examples[i])                                                    # wynik funkcji sum(dot(wagi * przykład))\n",
    "  O = np.where(Y > 0, 1, -1)                                                    # funkcja aktywacji\n",
    "  ERR = examples[i][:-1] - O                                                    # bład dla poszczegolnych wartości\n",
    "  # T = np.zeros(2500)                                                          \n",
    "  # T[ERR == 0] = 1                                                             # tablica wyników - 1 poprawne, 0 niepoprawne\n",
    "  for j in range(2500):                                                         # dla wszystkich perceptronów\n",
    "    if ERR[j] != 0:                                                             # jesli błędny wynik\n",
    "      W[j] += LEARNING_RATE * ERR[j] * examples[i]                              # zmień wagi"
   ]
  },
  {
   "cell_type": "code",
   "execution_count": 21,
   "metadata": {
    "colab": {
     "base_uri": "https://localhost:8080/",
     "height": 238
    },
    "executionInfo": {
     "elapsed": 9217,
     "status": "ok",
     "timestamp": 1603896115539,
     "user": {
      "displayName": "DuDiiC",
      "photoUrl": "https://lh6.googleusercontent.com/-2FfMjEDSAkQ/AAAAAAAAAAI/AAAAAAAAB-0/38kvRzPlWh4/s64/photo.jpg",
      "userId": "03134040302663534720"
     },
     "user_tz": -60
    },
    "id": "PYn18p1HTb-w",
    "outputId": "49b36706-b9a9-477e-fa9e-8054d045a3fc"
   },
   "outputs": [
    {
     "data": {
      "text/plain": [
       "array([[0.23584545, 0.85630987, 0.44612577, ..., 0.30210375, 0.10363791,\n",
       "        0.74253879],\n",
       "       [0.06290806, 0.79258546, 0.52610369, ..., 0.53056679, 0.01825166,\n",
       "        0.44064182],\n",
       "       [0.51801136, 0.43951229, 0.70672233, ..., 0.48366068, 0.42958707,\n",
       "        0.63977726],\n",
       "       ...,\n",
       "       [0.11928203, 0.38905637, 0.7743569 , ..., 0.66319066, 0.53129524,\n",
       "        0.82376857],\n",
       "       [0.77061512, 0.72737501, 0.71735988, ..., 0.7121916 , 0.7975909 ,\n",
       "        0.2412258 ],\n",
       "       [0.4920352 , 0.76425598, 0.90379158, ..., 0.60548287, 0.93977841,\n",
       "        0.00960486]])"
      ]
     },
     "execution_count": 21,
     "metadata": {},
     "output_type": "execute_result"
    }
   ],
   "source": [
    "W"
   ]
  },
  {
   "cell_type": "markdown",
   "metadata": {
    "id": "-9_IVGliSXfi"
   },
   "source": [
    "# Test działania"
   ]
  },
  {
   "cell_type": "markdown",
   "metadata": {
    "id": "KI52EgIZTgVO"
   },
   "source": [
    "Stworzenie zaszumionego obrazka"
   ]
  },
  {
   "cell_type": "code",
   "execution_count": 22,
   "metadata": {
    "colab": {
     "base_uri": "https://localhost:8080/",
     "height": 34
    },
    "executionInfo": {
     "elapsed": 1153,
     "status": "ok",
     "timestamp": 1603896561535,
     "user": {
      "displayName": "DuDiiC",
      "photoUrl": "https://lh6.googleusercontent.com/-2FfMjEDSAkQ/AAAAAAAAAAI/AAAAAAAAB-0/38kvRzPlWh4/s64/photo.jpg",
      "userId": "03134040302663534720"
     },
     "user_tz": -60
    },
    "id": "FzTgKlhPDUXb",
    "outputId": "153d5eba-692d-42f9-a263-abab94358776"
   },
   "outputs": [
    {
     "data": {
      "text/plain": [
       "array([-1,  1, -1, ...,  1,  1,  1])"
      ]
     },
     "execution_count": 22,
     "metadata": {},
     "output_type": "execute_result"
    }
   ],
   "source": [
    "noised_img = noise_img(examples[1][:-1], 50)\n",
    "noised_img = np.append(noised_img, 1)\n",
    "noised_img"
   ]
  },
  {
   "cell_type": "code",
   "execution_count": 23,
   "metadata": {
    "colab": {
     "base_uri": "https://localhost:8080/",
     "height": 267
    },
    "executionInfo": {
     "elapsed": 1119,
     "status": "ok",
     "timestamp": 1603896563580,
     "user": {
      "displayName": "DuDiiC",
      "photoUrl": "https://lh6.googleusercontent.com/-2FfMjEDSAkQ/AAAAAAAAAAI/AAAAAAAAB-0/38kvRzPlWh4/s64/photo.jpg",
      "userId": "03134040302663534720"
     },
     "user_tz": -60
    },
    "id": "tccUgWRxRFES",
    "outputId": "3d63434c-93e0-4a6d-86e7-45deffbe3d8e"
   },
   "outputs": [
    {
     "data": {
      "image/png": "[encoded data removed]",
      "text/plain": [
       "<Figure size 432x288 with 1 Axes>"
      ]
     },
     "metadata": {
      "needs_background": "light"
     },
     "output_type": "display_data"
    }
   ],
   "source": [
    "show_img(noised_img[:-1].reshape(50, 50))"
   ]
  },
  {
   "cell_type": "markdown",
   "metadata": {
    "id": "CMhtSb4WTmDL"
   },
   "source": [
    "Odszumianie"
   ]
  },
  {
   "cell_type": "code",
   "execution_count": 24,
   "metadata": {
    "colab": {
     "base_uri": "https://localhost:8080/",
     "height": 51
    },
    "executionInfo": {
     "elapsed": 931,
     "status": "ok",
     "timestamp": 1603896566982,
     "user": {
      "displayName": "DuDiiC",
      "photoUrl": "https://lh6.googleusercontent.com/-2FfMjEDSAkQ/AAAAAAAAAAI/AAAAAAAAB-0/38kvRzPlWh4/s64/photo.jpg",
      "userId": "03134040302663534720"
     },
     "user_tz": -60
    },
    "id": "c28yQAP3GymO",
    "outputId": "150e7404-080d-40ee-adaf-acec4ca9c4be"
   },
   "outputs": [
    {
     "data": {
      "text/plain": [
       "array([-232.23237668, -235.15429677, -226.55969814, ..., -243.22987485,\n",
       "       -231.44209045, -249.57651274])"
      ]
     },
     "execution_count": 24,
     "metadata": {},
     "output_type": "execute_result"
    }
   ],
   "source": [
    "Y_test = np.dot(W, noised_img)\n",
    "Y_test"
   ]
  },
  {
   "cell_type": "code",
   "execution_count": 25,
   "metadata": {
    "colab": {
     "base_uri": "https://localhost:8080/",
     "height": 136
    },
    "executionInfo": {
     "elapsed": 506,
     "status": "ok",
     "timestamp": 1603896568095,
     "user": {
      "displayName": "DuDiiC",
      "photoUrl": "https://lh6.googleusercontent.com/-2FfMjEDSAkQ/AAAAAAAAAAI/AAAAAAAAB-0/38kvRzPlWh4/s64/photo.jpg",
      "userId": "03134040302663534720"
     },
     "user_tz": -60
    },
    "id": "AUUlFBYJHaZ7",
    "outputId": "1878f5a8-5e1a-4507-8457-256ff78a30f3"
   },
   "outputs": [
    {
     "data": {
      "text/plain": [
       "array([[-1, -1, -1, ..., -1, -1, -1],\n",
       "       [-1, -1, -1, ..., -1, -1, -1],\n",
       "       [-1, -1, -1, ..., -1, -1, -1],\n",
       "       ...,\n",
       "       [-1, -1, -1, ..., -1, -1, -1],\n",
       "       [-1, -1, -1, ..., -1, -1, -1],\n",
       "       [-1, -1, -1, ..., -1, -1, -1]])"
      ]
     },
     "execution_count": 25,
     "metadata": {},
     "output_type": "execute_result"
    }
   ],
   "source": [
    "O = np.where(Y_test > 0, 1, -1)\n",
    "O.reshape(50, 50)"
   ]
  },
  {
   "cell_type": "code",
   "execution_count": 26,
   "metadata": {
    "colab": {
     "base_uri": "https://localhost:8080/",
     "height": 267
    },
    "executionInfo": {
     "elapsed": 1048,
     "status": "ok",
     "timestamp": 1603896570873,
     "user": {
      "displayName": "DuDiiC",
      "photoUrl": "https://lh6.googleusercontent.com/-2FfMjEDSAkQ/AAAAAAAAAAI/AAAAAAAAB-0/38kvRzPlWh4/s64/photo.jpg",
      "userId": "03134040302663534720"
     },
     "user_tz": -60
    },
    "id": "A1BuVwo0Hr-2",
    "outputId": "7d92d66f-0c02-4de0-ca24-851ad8410330"
   },
   "outputs": [
    {
     "data": {
      "image/png": "[encoded data removed]",
      "text/plain": [
       "<Figure size 432x288 with 1 Axes>"
      ]
     },
     "metadata": {
      "needs_background": "light"
     },
     "output_type": "display_data"
    }
   ],
   "source": [
    "show_img(O.reshape(50, 50))"
   ]
  },
  {
   "cell_type": "code",
   "execution_count": 27,
   "metadata": {
    "colab": {
     "base_uri": "https://localhost:8080/",
     "height": 267
    },
    "executionInfo": {
     "elapsed": 998,
     "status": "ok",
     "timestamp": 1603896911494,
     "user": {
      "displayName": "DuDiiC",
      "photoUrl": "https://lh6.googleusercontent.com/-2FfMjEDSAkQ/AAAAAAAAAAI/AAAAAAAAB-0/38kvRzPlWh4/s64/photo.jpg",
      "userId": "03134040302663534720"
     },
     "user_tz": -60
    },
    "id": "0MUdqnEGk8_9",
    "outputId": "ac89d7db-be8b-473e-9d9a-d070993389e5"
   },
   "outputs": [
    {
     "data": {
      "image/png": "[encoded data removed]",
      "text/plain": [
       "<Figure size 432x288 with 1 Axes>"
      ]
     },
     "metadata": {
      "needs_background": "light"
     },
     "output_type": "display_data"
    }
   ],
   "source": [
    "Y_test2 = np.dot(W[:, :-1], O)\n",
    "O2 = np.where(Y_test2 > 0, 1, -1)\n",
    "show_img(O2.reshape(50, 50))"
   ]
  },
  {
   "cell_type": "code",
   "execution_count": null,
   "metadata": {
    "executionInfo": {
     "elapsed": 1436,
     "status": "aborted",
     "timestamp": 1603896429654,
     "user": {
      "displayName": "DuDiiC",
      "photoUrl": "https://lh6.googleusercontent.com/-2FfMjEDSAkQ/AAAAAAAAAAI/AAAAAAAAB-0/38kvRzPlWh4/s64/photo.jpg",
      "userId": "03134040302663534720"
     },
     "user_tz": -60
    },
    "id": "OineiPLNlCGf"
   },
   "outputs": [],
   "source": []
  }
 ],
 "metadata": {
  "colab": {
   "authorship_tag": "ABX9TyMylP08hhvXjKqcBOo42ipQ",
   "collapsed_sections": [],
   "name": "02.Autoasocjator.ipynb",
   "provenance": [],
   "toc_visible": true
  },
  "kernelspec": {
   "display_name": "Python 3",
   "language": "python",
   "name": "python3"
  },
  "language_info": {
   "codemirror_mode": {
    "name": "ipython",
    "version": 3
   },
   "file_extension": ".py",
   "mimetype": "text/x-python",
   "name": "python",
   "nbconvert_exporter": "python",
   "pygments_lexer": "ipython3",
   "version": "3.7.6"
  }
 },
 "nbformat": 4,
 "nbformat_minor": 1
}
