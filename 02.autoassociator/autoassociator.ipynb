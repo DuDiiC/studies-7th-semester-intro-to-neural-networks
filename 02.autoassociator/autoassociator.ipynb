{
  "nbformat": 4,
  "nbformat_minor": 0,
  "metadata": {
    "colab": {
      "name": "02.Autoasocjator.ipynb",
      "provenance": [],
      "collapsed_sections": [
        "hXP_x29vSTjR",
        "CMhtSb4WTmDL"
      ],
      "toc_visible": true
    },
    "kernelspec": {
      "name": "python3",
      "display_name": "Python 3"
    }
  },
  "cells": [
    {
      "cell_type": "code",
      "metadata": {
        "id": "X1KN7iFUAZY6"
      },
      "source": [
        "import numpy as np\n",
        "from PIL import Image\n",
        "import matplotlib.pyplot as plt\n",
        "IMAGES_NUMBER = 5\n",
        "LEARNING_RATE = 0.1"
      ],
      "execution_count": null,
      "outputs": []
    },
    {
      "cell_type": "code",
      "metadata": {
        "id": "PIg0A057J-rL"
      },
      "source": [
        "# image jako numpy array (50, 50)\n",
        "def show_img(image):\n",
        "  %matplotlib inline\n",
        "  plt.imshow(image)\n",
        "  plt.show()"
      ],
      "execution_count": null,
      "outputs": []
    },
    {
      "cell_type": "code",
      "metadata": {
        "id": "ptW5t7LsOEB_"
      },
      "source": [
        "# image jako numpy array\n",
        "def noise_img(image, procent):\n",
        "  noised_image = np.copy(image)\n",
        "  for i in range(int(image.shape[0] * procent * 0.01)):\n",
        "    rand = np.random.randint(image.shape[0])\n",
        "    noised_image[rand] = image[rand] * -1\n",
        "  return noised_image"
      ],
      "execution_count": null,
      "outputs": []
    },
    {
      "cell_type": "markdown",
      "metadata": {
        "id": "spbGg0YVQ1h1"
      },
      "source": [
        "# Wczytanie danych uczących"
      ]
    },
    {
      "cell_type": "code",
      "metadata": {
        "id": "una7UvP1GjpS"
      },
      "source": [
        "images = [ Image.open(f'{i}.png').convert('L') for i in range(IMAGES_NUMBER) ]"
      ],
      "execution_count": null,
      "outputs": []
    },
    {
      "cell_type": "markdown",
      "metadata": {
        "id": "j39gPBnZRBJ9"
      },
      "source": [
        "Dla sprawdzenia rysowanie jednego z obrazków"
      ]
    },
    {
      "cell_type": "code",
      "metadata": {
        "id": "sygWGzgkJhba",
        "colab": {
          "base_uri": "https://localhost:8080/",
          "height": 267
        },
        "outputId": "18a0c9f5-fdbe-47ee-b9dc-103b5350b73a"
      },
      "source": [
        "show_img(images[2])"
      ],
      "execution_count": null,
      "outputs": [
        {
          "output_type": "display_data",
          "data": {
            "image/png": "[encoded data removed]",
            "text/plain": [
              "<Figure size 432x288 with 1 Axes>"
            ]
          },
          "metadata": {
            "tags": [],
            "needs_background": "light"
          }
        }
      ]
    },
    {
      "cell_type": "markdown",
      "metadata": {
        "id": "JEi0nG9qQwWF"
      },
      "source": [
        "Konwersja obrazka do tablicy numpy\n",
        "\n",
        "- wczytanie z pliku\n",
        "- konwersja z RGB do szarego obrazku\n",
        "- wpisanie do tablicy numpy i spłaszczenie tablicy dwywymiarowej\n",
        "- zamiast przechowywania kolory, przechowanie informacji 1 dla piksela czarnego oraz -1 dla białego\n",
        "- rozszerzenie wektora o dodatkowe jedynki, żeby wymiary dla theta były zgodne"
      ]
    },
    {
      "cell_type": "code",
      "metadata": {
        "id": "GLsQGrObHCG3",
        "colab": {
          "base_uri": "https://localhost:8080/"
        },
        "outputId": "ffaf9862-14ef-4f58-c3ad-794da53ee898"
      },
      "source": [
        "images = [ Image.open(f'{i}.png').convert('L') for i in range(IMAGES_NUMBER) ]\n",
        "examples = [ np.where(np.asarray(images[i]).flatten() == 0, 1, -1) for i in range(IMAGES_NUMBER) ]\n",
        "for i in range(IMAGES_NUMBER):\n",
        "  examples[i] = np.append(examples[i], 1)\n",
        "examples"
      ],
      "execution_count": null,
      "outputs": [
        {
          "output_type": "execute_result",
          "data": {
            "text/plain": [
              "[array([-1, -1, -1, ..., -1, -1,  1]),\n",
              " array([-1, -1, -1, ..., -1, -1,  1]),\n",
              " array([-1, -1, -1, ..., -1, -1,  1]),\n",
              " array([-1, -1, -1, ..., -1, -1,  1]),\n",
              " array([1, 1, 1, ..., 1, 1, 1])]"
            ]
          },
          "metadata": {
            "tags": []
          },
          "execution_count": 379
        }
      ]
    },
    {
      "cell_type": "code",
      "metadata": {
        "id": "Q112E6znQHvc",
        "colab": {
          "base_uri": "https://localhost:8080/",
          "height": 267
        },
        "outputId": "b4673fc6-7815-46b7-dd51-265a95cd095a"
      },
      "source": [
        "show_img(examples[2][:-1].reshape(50, 50))"
      ],
      "execution_count": null,
      "outputs": [
        {
          "output_type": "display_data",
          "data": {
            "image/png": "[encoded data removed]",
            "text/plain": [
              "<Figure size 432x288 with 1 Axes>"
            ]
          },
          "metadata": {
            "tags": [],
            "needs_background": "light"
          }
        }
      ]
    },
    {
      "cell_type": "markdown",
      "metadata": {
        "id": "hXP_x29vSTjR"
      },
      "source": [
        "# Idea uczenia"
      ]
    },
    {
      "cell_type": "markdown",
      "metadata": {
        "id": "_YFJN3qa5wpd"
      },
      "source": [
        "`W` jest wektorem wag dla wszystkich perceptronów - każdy z 2500 perceptronów ma 2501 wag (dodana theta)"
      ]
    },
    {
      "cell_type": "code",
      "metadata": {
        "id": "vpF4t2flfvJC",
        "colab": {
          "base_uri": "https://localhost:8080/"
        },
        "outputId": "4dae2ce6-1f4e-471a-a342-34a8c3cd9933"
      },
      "source": [
        "W = np.random.rand(2500, 2501) # wagi perceptronów  \n",
        "W"
      ],
      "execution_count": null,
      "outputs": [
        {
          "output_type": "execute_result",
          "data": {
            "text/plain": [
              "array([[0.78592191, 0.86583932, 0.77017289, ..., 0.34419206, 0.96513458,\n",
              "        0.73448011],\n",
              "       [0.24801509, 0.07055813, 0.66325719, ..., 0.21512223, 0.54950266,\n",
              "        0.70213035],\n",
              "       [0.94850098, 0.97054463, 0.54714868, ..., 0.19744153, 0.66939954,\n",
              "        0.93074549],\n",
              "       ...,\n",
              "       [0.99047722, 0.28489013, 0.94318685, ..., 0.40456674, 0.68513863,\n",
              "        0.08160546],\n",
              "       [0.43075022, 0.10640149, 0.45938405, ..., 0.33533031, 0.5828127 ,\n",
              "        0.78529234],\n",
              "       [0.4731146 , 0.13553376, 0.91166565, ..., 0.15406402, 0.68525783,\n",
              "        0.2364465 ]])"
            ]
          },
          "metadata": {
            "tags": []
          },
          "execution_count": 381
        }
      ]
    },
    {
      "cell_type": "code",
      "metadata": {
        "id": "qOB914WkocDC",
        "colab": {
          "base_uri": "https://localhost:8080/"
        },
        "outputId": "c50d660d-901a-4645-d64b-61ddc4424ec4"
      },
      "source": [
        "W.shape"
      ],
      "execution_count": null,
      "outputs": [
        {
          "output_type": "execute_result",
          "data": {
            "text/plain": [
              "(2500, 2501)"
            ]
          },
          "metadata": {
            "tags": []
          },
          "execution_count": 382
        }
      ]
    },
    {
      "cell_type": "code",
      "metadata": {
        "id": "TXUiAwW2odUI",
        "colab": {
          "base_uri": "https://localhost:8080/"
        },
        "outputId": "64e4ebf0-f1cc-48ae-92c0-e095006b3d45"
      },
      "source": [
        "examples[0].shape"
      ],
      "execution_count": null,
      "outputs": [
        {
          "output_type": "execute_result",
          "data": {
            "text/plain": [
              "(2501,)"
            ]
          },
          "metadata": {
            "tags": []
          },
          "execution_count": 383
        }
      ]
    },
    {
      "cell_type": "markdown",
      "metadata": {
        "id": "wgWcIqK_55XG"
      },
      "source": [
        "`Y` jest sumą (po wierszach) przemnożenia aktualnych wag przez wartości przykładów"
      ]
    },
    {
      "cell_type": "code",
      "metadata": {
        "id": "EFIFOfBWoesi",
        "colab": {
          "base_uri": "https://localhost:8080/"
        },
        "outputId": "7e1aeb71-8146-4b97-b6db-ac6158e0b33b"
      },
      "source": [
        "Y = np.dot(W, examples[0])\n",
        "Y"
      ],
      "execution_count": null,
      "outputs": [
        {
          "output_type": "execute_result",
          "data": {
            "text/plain": [
              "array([-1128.27633228, -1123.5240616 , -1137.51244639, ...,\n",
              "       -1107.79521164, -1127.47421475, -1087.76306652])"
            ]
          },
          "metadata": {
            "tags": []
          },
          "execution_count": 384
        }
      ]
    },
    {
      "cell_type": "code",
      "metadata": {
        "id": "C00DrptQyzw4",
        "colab": {
          "base_uri": "https://localhost:8080/"
        },
        "outputId": "a67d7802-1552-44b7-e4df-f160f059c718"
      },
      "source": [
        "Y.shape"
      ],
      "execution_count": null,
      "outputs": [
        {
          "output_type": "execute_result",
          "data": {
            "text/plain": [
              "(2500,)"
            ]
          },
          "metadata": {
            "tags": []
          },
          "execution_count": 385
        }
      ]
    },
    {
      "cell_type": "markdown",
      "metadata": {
        "id": "z6bi95gK6JMg"
      },
      "source": [
        "`O` jest wynikiem działania funkcji aktywacji dla każdego z perceptronów"
      ]
    },
    {
      "cell_type": "code",
      "metadata": {
        "id": "Hnl3Ba3GyzBV",
        "colab": {
          "base_uri": "https://localhost:8080/"
        },
        "outputId": "86c8db13-f020-41cf-c909-4ab0e7f8b23f"
      },
      "source": [
        "O = np.where(Y > 0, 1, -1)\n",
        "O"
      ],
      "execution_count": null,
      "outputs": [
        {
          "output_type": "execute_result",
          "data": {
            "text/plain": [
              "array([-1, -1, -1, ..., -1, -1, -1])"
            ]
          },
          "metadata": {
            "tags": []
          },
          "execution_count": 386
        }
      ]
    },
    {
      "cell_type": "markdown",
      "metadata": {
        "id": "85mkvYND6W64"
      },
      "source": [
        "Obliczenie funkcji błędu dla każdego z perceptronów"
      ]
    },
    {
      "cell_type": "code",
      "metadata": {
        "id": "iFmpiS1tzfUd",
        "colab": {
          "base_uri": "https://localhost:8080/"
        },
        "outputId": "32036604-a92d-4942-bdfb-44b95c5ac0e4"
      },
      "source": [
        "ERR = O - examples[0][:-1]\n",
        "ERR"
      ],
      "execution_count": null,
      "outputs": [
        {
          "output_type": "execute_result",
          "data": {
            "text/plain": [
              "array([0, 0, 0, ..., 0, 0, 0])"
            ]
          },
          "metadata": {
            "tags": []
          },
          "execution_count": 387
        }
      ]
    },
    {
      "cell_type": "code",
      "metadata": {
        "id": "iiPLkv056cYX",
        "colab": {
          "base_uri": "https://localhost:8080/"
        },
        "outputId": "5227b6f9-fc88-494e-a390-5c4334af6a3a"
      },
      "source": [
        "ERR.shape"
      ],
      "execution_count": null,
      "outputs": [
        {
          "output_type": "execute_result",
          "data": {
            "text/plain": [
              "(2500,)"
            ]
          },
          "metadata": {
            "tags": []
          },
          "execution_count": 388
        }
      ]
    },
    {
      "cell_type": "markdown",
      "metadata": {
        "id": "ZGiUV3Fb6iTu"
      },
      "source": [
        "`T` będzie wektorem, który odpowiada za uczenie - jeśli dla perceptronu `i`, `T[i] == 1` to perceptron uczy się poprawnie, w przeciwnym wypadku należy poprawić wagi"
      ]
    },
    {
      "cell_type": "code",
      "metadata": {
        "id": "2KyjIGsSzqPg",
        "colab": {
          "base_uri": "https://localhost:8080/"
        },
        "outputId": "9e2c164d-dfca-44b9-c254-4977dfc307c9"
      },
      "source": [
        "T = np.zeros(2500)\n",
        "T"
      ],
      "execution_count": null,
      "outputs": [
        {
          "output_type": "execute_result",
          "data": {
            "text/plain": [
              "array([0., 0., 0., ..., 0., 0., 0.])"
            ]
          },
          "metadata": {
            "tags": []
          },
          "execution_count": 389
        }
      ]
    },
    {
      "cell_type": "code",
      "metadata": {
        "id": "0cGLhId85TgS",
        "colab": {
          "base_uri": "https://localhost:8080/"
        },
        "outputId": "aab8df8a-6c08-4ce1-a5a2-737bef4240a0"
      },
      "source": [
        "T[ERR == 0] = 1\n",
        "T"
      ],
      "execution_count": null,
      "outputs": [
        {
          "output_type": "execute_result",
          "data": {
            "text/plain": [
              "array([1., 1., 1., ..., 1., 1., 1.])"
            ]
          },
          "metadata": {
            "tags": []
          },
          "execution_count": 390
        }
      ]
    },
    {
      "cell_type": "code",
      "metadata": {
        "id": "Pd9ZhlK45Xja"
      },
      "source": [
        "for i in range(2500):\n",
        "  if(T[i] == 0):\n",
        "    W[i][:-1] += LEARNING_RATE * ERR[i] * examples[0][:-1]\n",
        "    W[i][2500] += LEARNING_RATE * ERR[i]"
      ],
      "execution_count": null,
      "outputs": []
    },
    {
      "cell_type": "markdown",
      "metadata": {
        "id": "iumUXrIcSA0x"
      },
      "source": [
        "# Uczenie perceptronów"
      ]
    },
    {
      "cell_type": "code",
      "metadata": {
        "id": "wcfDLsIASxsW"
      },
      "source": [
        "W = np.random.rand(2500, 2501) # wagi perceptronów  "
      ],
      "execution_count": null,
      "outputs": []
    },
    {
      "cell_type": "code",
      "metadata": {
        "id": "hUrASNkpBIDw"
      },
      "source": [
        "for iterator in range(1000):                                                    # ile razy uczyć\n",
        "  i = np.random.randint(0, IMAGES_NUMBER)                                       # dla każdego obrazka\n",
        "  Y = np.dot(W, examples[i])                                                    # wynik funkcji sum(dot(wagi * przykład))\n",
        "  O = np.where(Y > 0, 1, -1)                                                    # funkcja aktywacji\n",
        "  ERR = examples[i][:-1] - O                                                    # bład dla poszczegolnych wartości\n",
        "  # T = np.zeros(2500)                                                          \n",
        "  # T[ERR == 0] = 1                                                             # tablica wyników - 1 poprawne, 0 niepoprawne\n",
        "  for j in range(2500):                                                         # dla wszystkich perceptronów\n",
        "    if ERR[j] != 0:                                                             # jesli błędny wynik\n",
        "      W[j] += LEARNING_RATE * ERR[j] * examples[i]                              # zmień wagi"
      ],
      "execution_count": null,
      "outputs": []
    },
    {
      "cell_type": "code",
      "metadata": {
        "id": "PYn18p1HTb-w",
        "colab": {
          "base_uri": "https://localhost:8080/"
        },
        "outputId": "6f687aa4-dc68-4dd1-84a6-8721b2c219e7"
      },
      "source": [
        "W"
      ],
      "execution_count": null,
      "outputs": [
        {
          "output_type": "execute_result",
          "data": {
            "text/plain": [
              "array([[0.18345829, 0.75850894, 0.64496886, ..., 0.09571081, 0.79607021,\n",
              "        0.53661767],\n",
              "       [0.62871383, 0.1181707 , 0.00809449, ..., 0.64083987, 0.43588256,\n",
              "        0.77725881],\n",
              "       [0.04791216, 0.32880945, 0.96819479, ..., 0.72577151, 0.9115774 ,\n",
              "        0.3327136 ],\n",
              "       ...,\n",
              "       [0.00918281, 0.39083052, 0.09445422, ..., 0.72893661, 0.23192019,\n",
              "        0.7794196 ],\n",
              "       [0.47759484, 0.4499491 , 0.62930394, ..., 0.77624173, 0.12833024,\n",
              "        0.15153763],\n",
              "       [0.7098273 , 0.27395473, 0.42777354, ..., 0.31688065, 0.27638179,\n",
              "        0.60964171]])"
            ]
          },
          "metadata": {
            "tags": []
          },
          "execution_count": 426
        }
      ]
    },
    {
      "cell_type": "markdown",
      "metadata": {
        "id": "-9_IVGliSXfi"
      },
      "source": [
        "# Test działania"
      ]
    },
    {
      "cell_type": "markdown",
      "metadata": {
        "id": "KI52EgIZTgVO"
      },
      "source": [
        "Stworzenie zaszumionego obrazka"
      ]
    },
    {
      "cell_type": "code",
      "metadata": {
        "id": "FzTgKlhPDUXb",
        "colab": {
          "base_uri": "https://localhost:8080/"
        },
        "outputId": "3693634c-87ca-4d42-cdfe-1b1238ec224d"
      },
      "source": [
        "noised_img = noise_img(examples[3][:-1], 30)\n",
        "noised_img = np.append(noised_img, 1)\n",
        "noised_img"
      ],
      "execution_count": null,
      "outputs": [
        {
          "output_type": "execute_result",
          "data": {
            "text/plain": [
              "array([ 1, -1, -1, ..., -1,  1,  1])"
            ]
          },
          "metadata": {
            "tags": []
          },
          "execution_count": 432
        }
      ]
    },
    {
      "cell_type": "code",
      "metadata": {
        "id": "tccUgWRxRFES",
        "colab": {
          "base_uri": "https://localhost:8080/",
          "height": 267
        },
        "outputId": "6f00483f-76a3-43aa-d198-c052d5cfa35c"
      },
      "source": [
        "show_img(noised_img[:-1].reshape(50, 50))"
      ],
      "execution_count": null,
      "outputs": [
        {
          "output_type": "display_data",
          "data": {
            "image/png": "[encoded data removed]",
            "text/plain": [
              "<Figure size 432x288 with 1 Axes>"
            ]
          },
          "metadata": {
            "tags": [],
            "needs_background": "light"
          }
        }
      ]
    },
    {
      "cell_type": "markdown",
      "metadata": {
        "id": "CMhtSb4WTmDL"
      },
      "source": [
        "# Odszumianie krok po kroku\n",
        "\n"
      ]
    },
    {
      "cell_type": "code",
      "metadata": {
        "id": "c28yQAP3GymO",
        "colab": {
          "base_uri": "https://localhost:8080/"
        },
        "outputId": "cfedb277-5788-441f-cbd5-1173e7fd0871"
      },
      "source": [
        "Y_test = np.dot(W, noised_img)\n",
        "Y_test"
      ],
      "execution_count": null,
      "outputs": [
        {
          "output_type": "execute_result",
          "data": {
            "text/plain": [
              "array([27.00899929, 26.46468364, 22.01200075, ..., 16.22464564,\n",
              "        9.94446188,  8.49016502])"
            ]
          },
          "metadata": {
            "tags": []
          },
          "execution_count": 397
        }
      ]
    },
    {
      "cell_type": "code",
      "metadata": {
        "id": "AUUlFBYJHaZ7",
        "colab": {
          "base_uri": "https://localhost:8080/"
        },
        "outputId": "f27b089d-fc35-4307-82c4-c42c867141e4"
      },
      "source": [
        "O = np.where(Y_test > 0, 1, -1)\n",
        "O.reshape(50, 50)"
      ],
      "execution_count": null,
      "outputs": [
        {
          "output_type": "execute_result",
          "data": {
            "text/plain": [
              "array([[ 1,  1,  1, ...,  1,  1,  1],\n",
              "       [ 1,  1,  1, ...,  1,  1,  1],\n",
              "       [ 1,  1,  1, ..., -1,  1,  1],\n",
              "       ...,\n",
              "       [ 1, -1,  1, ...,  1, -1,  1],\n",
              "       [ 1, -1,  1, ..., -1,  1,  1],\n",
              "       [ 1,  1, -1, ...,  1,  1,  1]])"
            ]
          },
          "metadata": {
            "tags": []
          },
          "execution_count": 398
        }
      ]
    },
    {
      "cell_type": "code",
      "metadata": {
        "id": "A1BuVwo0Hr-2",
        "colab": {
          "base_uri": "https://localhost:8080/"
        },
        "outputId": "e343b07f-40f2-4155-9cbd-553348ef1b83"
      },
      "source": [
        "show_img(O.reshape(50, 50))"
      ],
      "execution_count": null,
      "outputs": [
        {
          "output_type": "display_data",
          "data": {
            "image/png": "[encoded data removed]",
            "text/plain": [
              "<Figure size 432x288 with 1 Axes>"
            ]
          },
          "metadata": {
            "tags": [],
            "needs_background": "light"
          }
        }
      ]
    },
    {
      "cell_type": "code",
      "metadata": {
        "id": "0MUdqnEGk8_9",
        "colab": {
          "base_uri": "https://localhost:8080/"
        },
        "outputId": "b75e4b50-a4e4-47f6-9614-2f34b297afbe"
      },
      "source": [
        "Y_test2 = np.dot(W[:, :-1], O)\n",
        "O2 = np.where(Y_test2 > 0, 1, -1)\n",
        "show_img(O2.reshape(50, 50))"
      ],
      "execution_count": null,
      "outputs": [
        {
          "output_type": "display_data",
          "data": {
            "image/png": "[encoded data removed]",
            "text/plain": [
              "<Figure size 432x288 with 1 Axes>"
            ]
          },
          "metadata": {
            "tags": [],
            "needs_background": "light"
          }
        }
      ]
    },
    {
      "cell_type": "markdown",
      "metadata": {
        "id": "PGKYq-s1HJkD"
      },
      "source": [
        "# Odszumianie"
      ]
    },
    {
      "cell_type": "code",
      "metadata": {
        "id": "rDF4e8C2HGOS",
        "colab": {
          "base_uri": "https://localhost:8080/",
          "height": 267
        },
        "outputId": "2be61456-eee3-4920-dd35-08f5d379e354"
      },
      "source": [
        "noised_img[:-1] = np.where(np.dot(W, noised_img) > 0, 1, -1)\n",
        "show_img(noised_img[:-1].reshape(50, 50))"
      ],
      "execution_count": null,
      "outputs": [
        {
          "output_type": "display_data",
          "data": {
            "image/png": "[encoded data removed]",
            "text/plain": [
              "<Figure size 432x288 with 1 Axes>"
            ]
          },
          "metadata": {
            "tags": [],
            "needs_background": "light"
          }
        }
      ]
    }
  ]
}