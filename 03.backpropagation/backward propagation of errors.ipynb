{
  "nbformat": 4,
  "nbformat_minor": 0,
  "metadata": {
    "colab": {
      "name": "03. Backward Propagation of Errors.ipynb",
      "provenance": [],
      "collapsed_sections": [
        "U9A8YCimqN0p"
      ],
      "toc_visible": true
    },
    "kernelspec": {
      "name": "python3",
      "display_name": "Python 3"
    }
  },
  "cells": [
    {
      "cell_type": "code",
      "metadata": {
        "id": "bTHatMvbKs_e"
      },
      "source": [
        "import time\r\n",
        "import pickle\r\n",
        "import numpy as np\r\n",
        "import matplotlib.pyplot as plt\r\n",
        "from scipy.interpolate import make_interp_spline, BSpline\r\n",
        "from sklearn.metrics import mean_squared_error"
      ],
      "execution_count": null,
      "outputs": []
    },
    {
      "cell_type": "code",
      "metadata": {
        "id": "KDy2Gm4YLA-J"
      },
      "source": [
        "def timer(start, end):\r\n",
        "  \"\"\"\r\n",
        "  calculate time from start to end in hh:mm:ss.SS format\r\n",
        "  based on https://stackoverflow.com/a/27780763/8653765\r\n",
        "  \"\"\"\r\n",
        "  hours, rem = divmod(end-start, 3600)\r\n",
        "  minutes, seconds = divmod(rem, 60)\r\n",
        "  return '{:0>2}:{:0>2}:{:05.2f}'.format(int(hours), int(minutes), seconds)"
      ],
      "execution_count": null,
      "outputs": []
    },
    {
      "cell_type": "markdown",
      "metadata": {
        "id": "lseYXmOxKg01"
      },
      "source": [
        "## Load MNIST dataset"
      ]
    },
    {
      "cell_type": "code",
      "metadata": {
        "id": "4LjNq8DDJklO",
        "colab": {
          "base_uri": "https://localhost:8080/"
        },
        "outputId": "5804b4c6-a857-498c-d83a-fa2ae6e83aeb"
      },
      "source": [
        "from tensorflow.keras.datasets import mnist\r\n",
        "(X_train, y_train), (X_test, y_test) = mnist.load_data()"
      ],
      "execution_count": null,
      "outputs": [
        {
          "output_type": "stream",
          "text": [
            "Downloading data from https://storage.googleapis.com/tensorflow/tf-keras-datasets/mnist.npz\n",
            "11493376/11490434 [==============================] - 0s 0us/step\n"
          ],
          "name": "stdout"
        }
      ]
    },
    {
      "cell_type": "code",
      "metadata": {
        "colab": {
          "base_uri": "https://localhost:8080/",
          "height": 300
        },
        "id": "TvubhC0gKqy_",
        "outputId": "6cbc49ba-e410-4f03-ea81-e8e95f0d2f03"
      },
      "source": [
        "print(y_train[2])\r\n",
        "plt.imshow(X_train[2], cmap='gray')"
      ],
      "execution_count": null,
      "outputs": [
        {
          "output_type": "stream",
          "text": [
            "4\n"
          ],
          "name": "stdout"
        },
        {
          "output_type": "execute_result",
          "data": {
            "text/plain": [
              "<matplotlib.image.AxesImage at 0x7f5f47ebcb38>"
            ]
          },
          "metadata": {
            "tags": []
          },
          "execution_count": 4
        },
        {
          "output_type": "display_data",
          "data": {
            "image/png": "[encoded data removed]",
            "text/plain": [
              "<Figure size 432x288 with 1 Axes>"
            ]
          },
          "metadata": {
            "tags": [],
            "needs_background": "light"
          }
        }
      ]
    },
    {
      "cell_type": "code",
      "metadata": {
        "id": "E_kdYhZ373WG"
      },
      "source": [
        "correct_train = []\r\n",
        "for i in y_train:\r\n",
        "  label = np.full(10, 0)\r\n",
        "  label[i] = 1\r\n",
        "  correct_train.append(label)\r\n",
        "\r\n",
        "correct_test = []\r\n",
        "for i in y_test:\r\n",
        "  label = np.full(10, 0)\r\n",
        "  label[i] = 1\r\n",
        "  correct_test.append(label)"
      ],
      "execution_count": null,
      "outputs": []
    },
    {
      "cell_type": "code",
      "metadata": {
        "colab": {
          "base_uri": "https://localhost:8080/"
        },
        "id": "o0aQEQqGp3hX",
        "outputId": "3cae3df9-acb2-4d1b-82eb-605cc04ab44b"
      },
      "source": [
        "correct_train[2]"
      ],
      "execution_count": null,
      "outputs": [
        {
          "output_type": "execute_result",
          "data": {
            "text/plain": [
              "array([0, 0, 0, 0, 1, 0, 0, 0, 0, 0])"
            ]
          },
          "metadata": {
            "tags": []
          },
          "execution_count": 12
        }
      ]
    },
    {
      "cell_type": "markdown",
      "metadata": {
        "id": "U9A8YCimqN0p"
      },
      "source": [
        "## Committee definition"
      ]
    },
    {
      "cell_type": "code",
      "metadata": {
        "id": "G_nncbMdE0Ky"
      },
      "source": [
        "class Committee:\r\n",
        "  def __init__(self, layout, n_NN, verbose=False):\r\n",
        "    self.NNs = [ MLP(layout, verbose) for _ in range(n_NN) ]\r\n",
        "    self.n_NN = n_NN\r\n",
        "  \r\n",
        "  def fit(self, X_train, y_train, X_test, y_test, eta=0.01, check_eta=10000, steps=100000, logs_by_steps=10000):\r\n",
        "    start = time.time()\r\n",
        "    for NN, i in zip(self.NNs, range(self.n_NN)):\r\n",
        "      print(f'learn {i+1} NN')\r\n",
        "      NN.fit(X_train, y_train, X_test, y_test, eta, check_eta, steps, logs_by_steps)\r\n",
        "      print(f'{i+1} NN finish after {timer(start, time.time())}')\r\n",
        "    print('================FINISH================')\r\n",
        "    print(f'TRAIN: {self.predict_efficiency(X_train, y_train)}')\r\n",
        "    print(f'TEST: {self.predict_efficiency(X_test, y_test)}')\r\n",
        "    print(f'Time: {timer(start, time.time())}')\r\n",
        "  \r\n",
        "  def predict(self, sample):\r\n",
        "    predicts = []\r\n",
        "    for NN in self.NNs:\r\n",
        "      predicts.append(NN.predict(sample))\r\n",
        "    return np.bincount(predicts).argmax()\r\n",
        "  \r\n",
        "  def predict_efficiency(self, samples, labels):\r\n",
        "    n_samples = samples.shape[0]\r\n",
        "    n_correct_predict = 0\r\n",
        "    predicts = []\r\n",
        "    for sample, label in zip(samples, labels):\r\n",
        "      predicts.append(self.predict(sample))\r\n",
        "      if(predicts[-1] == np.argmax(label)):\r\n",
        "        n_correct_predict = n_correct_predict + 1\r\n",
        "    efficiency = n_correct_predict * 100.0/n_samples\r\n",
        "    mse = mean_squared_error([np.argmax(l) for l in labels], predicts)\r\n",
        "    return efficiency, mse"
      ],
      "execution_count": null,
      "outputs": []
    },
    {
      "cell_type": "markdown",
      "metadata": {
        "id": "Rbb4Kd00LFFN"
      },
      "source": [
        "## Neural Network definition"
      ]
    },
    {
      "cell_type": "code",
      "metadata": {
        "id": "pmvY22iVLEGR"
      },
      "source": [
        "class MLP:\r\n",
        "  def __init__(self, layout, verbose=False):\r\n",
        "    self.layers = [ Layer(layout[i], layout[i+1]) for i in range(np.size(layout)-1) ]\r\n",
        "    self.steps_results = []\r\n",
        "    self.verbose = verbose\r\n",
        "    if(self.verbose):\r\n",
        "      print('new MLP ', end='')\r\n",
        "      self.print_details()\r\n",
        "\r\n",
        "  def fit(self, X_train, y_train, X_test, y_test, eta=0.01, check_eta=10000, steps=100000, logs_by_steps=10000):\r\n",
        "    start = time.time()\r\n",
        "    for i in range(steps):\r\n",
        "      current_sample = np.random.randint(0, np.size(X_train, 1))\r\n",
        "      self.backward(X_train[current_sample], y_train[current_sample], eta)\r\n",
        "      if(i%logs_by_steps == 0):\r\n",
        "        predict_train = self.predict_efficiency(X_train, y_train)\r\n",
        "        predict_test = self.predict_efficiency(X_test, y_test)\r\n",
        "        self.steps_results.append([i, predict_train, predict_test])\r\n",
        "        if(self.verbose):\r\n",
        "          print()\r\n",
        "          print(f'Step: {i}, learning rate: {eta}')\r\n",
        "          print('========================================')\r\n",
        "          print('Correct predicts:')\r\n",
        "          print(f'\\ttrain data\\t{round(predict_train[0], 2)}%\\n\\ttest data\\t{round(predict_test[0], 2)}%')\r\n",
        "          print('MSE:')\r\n",
        "          print(f'\\ttrain data\\t{round(predict_train[1].sum(), 5)}\\n\\ttest data\\t{round(predict_test[1].sum(), 5)}')\r\n",
        "          print(f'Time: {timer(start, time.time())}')\r\n",
        "      # if(i != 0 and i%check_eta == 0): # zmienić ten warunek - uzależnić od wyliczanego MSE\r\n",
        "      if (i%check_eta == 0 and len(self.steps_results) > 1 and self.steps_results[-1][2][1] >= self.steps_results[-2][2][1]):\r\n",
        "        eta = eta / 10.0\r\n",
        "      if eta <= 1e-5:\r\n",
        "        break\r\n",
        "    predict_train = self.predict_efficiency(X_train, y_train)\r\n",
        "    predict_test = self.predict_efficiency(X_test, y_test)\r\n",
        "    self.steps_results.append([i, predict_train, predict_test])\r\n",
        "    if(self.verbose):\r\n",
        "      print()\r\n",
        "      print(f'Learning finished after {steps} steps.')\r\n",
        "      print('========================================')\r\n",
        "      print('Correct predicts:')\r\n",
        "      print(f'\\train data\\t{round(predict_train[0], 2)}%\\n\\ttest data\\t{round(predict_test[0], 2)}%')\r\n",
        "      print('MSE:')\r\n",
        "      print(f'\\ttrain data\\t{round(predict_train[1].sum(), 5)}\\n\\ttest data\\t{round(predict_test[1].sum(), 5)}')\r\n",
        "      print(f'Time: {timer(start, time.time())}')\r\n",
        "      self.plots()\r\n",
        "  \r\n",
        "  def backward(self, input, labels, eta):\r\n",
        "    O = self.forward(input)\r\n",
        "    ERR = labels - O\r\n",
        "    for layer in reversed(self.layers):\r\n",
        "      ERR = layer.backward(ERR, eta)\r\n",
        "      ERR = ERR[1:]\r\n",
        "\r\n",
        "  def forward(self, input):\r\n",
        "    for layer in self.layers:\r\n",
        "      input = layer.forward(input)\r\n",
        "    return input\r\n",
        "\r\n",
        "  def predict(self, sample):\r\n",
        "    return np.argmax(self.forward(sample))\r\n",
        "\r\n",
        "  def predict_efficiency(self, samples, labels):\r\n",
        "    n_samples = samples.shape[0]\r\n",
        "    n_correct_predict = 0\r\n",
        "    predicts = []\r\n",
        "    for sample, label in zip(samples, labels):\r\n",
        "      predicts.append(self.predict(sample))\r\n",
        "      if(predicts[-1] == np.argmax(label)):\r\n",
        "        n_correct_predict = n_correct_predict + 1\r\n",
        "    efficiency = n_correct_predict * 100.0/n_samples\r\n",
        "    mse = mean_squared_error([np.argmax(l) for l in labels], predicts)\r\n",
        "    return efficiency, mse\r\n",
        "\r\n",
        "  def print_details(self):\r\n",
        "    print(f'({self.layers[0].n_input}', end='')\r\n",
        "    for layer in self.layers:\r\n",
        "      print(f' -> {layer.n_output}', end='')\r\n",
        "    print(')')\r\n",
        "\r\n",
        "  def smooth_plots(self):\r\n",
        "    steps = np.array([ self.steps_results[i][0] for i in range(len(self.steps_results)) ])\r\n",
        "    xnew = np.linspace(steps.min(), steps.max(), 500)\r\n",
        "\r\n",
        "    spl = make_interp_spline(steps, [ self.steps_results[i][1][0] for i in range(len(self.steps_results)) ], k=3)\r\n",
        "    train_eff_smooth = spl(xnew)\r\n",
        "    spl = make_interp_spline(steps, [ self.steps_results[i][2][0] for i in range(len(self.steps_results)) ], k=3)\r\n",
        "    test_eff_smooth = spl(xnew)\r\n",
        "    plt.plot(xnew, train_eff_smooth, label='train')\r\n",
        "    plt.plot(xnew, test_eff_smooth, label='test')\r\n",
        "    plt.title('Efficiency %')\r\n",
        "    plt.legend()\r\n",
        "    plt.show()\r\n",
        "\r\n",
        "    spl = make_interp_spline(steps, [ self.steps_results[i][1][1] for i in range(len(self.steps_results)) ], k=3)\r\n",
        "    train_mse_smooth = spl(xnew)\r\n",
        "    spl = make_interp_spline(steps, [ self.steps_results[i][2][1] for i in range(len(self.steps_results)) ], k=3)\r\n",
        "    test_mse_smooth = spl(xnew)\r\n",
        "    plt.plot(xnew, train_mse_smooth, label='train')\r\n",
        "    plt.plot(xnew, test_mse_smooth, label='test')\r\n",
        "    plt.title('MSE')\r\n",
        "    plt.legend()\r\n",
        "    plt.show()\r\n",
        "  \r\n",
        "  def plots(self):\r\n",
        "    steps = np.array([ self.steps_results[i][0] for i in range(len(self.steps_results)) ])\r\n",
        "\r\n",
        "    plt.plot(steps, [ self.steps_results[i][1][0] for i in range(len(self.steps_results)) ], label='train')\r\n",
        "    plt.plot(steps, [ self.steps_results[i][2][0] for i in range(len(self.steps_results)) ], label='test')\r\n",
        "    plt.title('Efficiency %')\r\n",
        "    plt.legend()\r\n",
        "    plt.show()\r\n",
        "\r\n",
        "    plt.plot(steps, [ self.steps_results[i][1][1] for i in range(len(self.steps_results)) ], label='train')\r\n",
        "    plt.plot(steps, [ self.steps_results[i][2][1] for i in range(len(self.steps_results)) ], label='test')\r\n",
        "    plt.title('MSE')\r\n",
        "    plt.legend()\r\n",
        "    plt.show()"
      ],
      "execution_count": null,
      "outputs": []
    },
    {
      "cell_type": "markdown",
      "metadata": {
        "id": "s63o8IK00i4u"
      },
      "source": [
        "## Single layer definition"
      ]
    },
    {
      "cell_type": "code",
      "metadata": {
        "id": "hNxXR-l72TrD"
      },
      "source": [
        "class Layer:\r\n",
        "  def __init__(self, n_input, n_output):\r\n",
        "    self.n_input = n_input\r\n",
        "    self.n_output = n_output\r\n",
        "    self.weights = np.random.normal(0, .1, (self.n_output, self.n_input + 1))\r\n",
        "  \r\n",
        "  def print_details(self):\r\n",
        "    print(f'\\t({self.n_input} -> {self.n_output})')\r\n",
        "\r\n",
        "  def sigmoid(self, x):\r\n",
        "    return 1/(1 + np.exp(-x))\r\n",
        "\r\n",
        "  def sigmoid_1st_derivative(self, x):\r\n",
        "    return self.sigmoid(x) * (1 - self.sigmoid(x))\r\n",
        "\r\n",
        "  def tanh(self, x):\r\n",
        "    return np.tanh(x)\r\n",
        "\r\n",
        "  def tanh_1st_derivative(self, x):\r\n",
        "    return 1 - np.power(np.tanh(x), 2)\r\n",
        "\r\n",
        "  def softmax(self, x):\r\n",
        "    e_x = np.exp(x - np.max(x))\r\n",
        "    return e_x / e_x.sum(axis=0)\r\n",
        "  \r\n",
        "  def softmax_1st_derivative(self, x): # WRONG!\r\n",
        "    x_tmp = x.reshape(-1,1)\r\n",
        "    return np.diagflat(x_tmp) - np.dot(x_tmp, x_tmp.T)\r\n",
        "\r\n",
        "  def backward(self, err, eta):\r\n",
        "    delta = err * self.sigmoid_1st_derivative(self.out)\r\n",
        "    delta = np.reshape(delta, (self.n_output, 1))\r\n",
        "    self.weights += eta * delta * self.E\r\n",
        "    return (np.dot(np.transpose(self.weights), delta)).flatten()\r\n",
        "\r\n",
        "  def forward(self, input):\r\n",
        "    self.E = np.append([1], input)\r\n",
        "    self.out = np.dot(self.weights, self.E)\r\n",
        "    return self.sigmoid(self.out)"
      ],
      "execution_count": null,
      "outputs": []
    },
    {
      "cell_type": "markdown",
      "metadata": {
        "id": "YmR4Z2Zd0qO-"
      },
      "source": [
        "## Learning"
      ]
    },
    {
      "cell_type": "code",
      "metadata": {
        "id": "-uu6A_8wRmI9"
      },
      "source": [
        "NNs = []\r\n",
        "committees = []"
      ],
      "execution_count": null,
      "outputs": []
    },
    {
      "cell_type": "markdown",
      "metadata": {
        "id": "znTUsxR36kG0"
      },
      "source": [
        "### Example 1\r\n",
        "\r\n",
        "NN 784 + 800\r\n",
        "\r\n",
        "10 000 steps"
      ]
    },
    {
      "cell_type": "code",
      "metadata": {
        "id": "23uug3sC2fYO"
      },
      "source": [
        "NN_1 = MLP([28*28, 800, 10], True)\r\n",
        "NN_1.fit(X_train.reshape(60000, 28*28)/255.0, correct_train, \r\n",
        "         X_test.reshape(10000, 28*28)/255.0, correct_test, \r\n",
        "         eta=0.01, check_eta=1000, steps=10000, logs_by_steps=100)\r\n",
        "NNs.append(NN_1)\r\n",
        "with open('NN_1.pkl', 'wb') as fid:\r\n",
        "  pickle.dump(NN_1, fid)"
      ],
      "execution_count": null,
      "outputs": []
    },
    {
      "cell_type": "markdown",
      "metadata": {
        "id": "58HG57LhxxsY"
      },
      "source": [
        "### Example 2\r\n",
        "\r\n",
        "NN 784 + 300\r\n",
        "\r\n",
        "10 000 steps"
      ]
    },
    {
      "cell_type": "code",
      "metadata": {
        "id": "XpQrrdNZxpyw"
      },
      "source": [
        "NN_2 = MLP([28*28, 300, 10], True)\r\n",
        "NN_2.fit(X_train.reshape(60000, 28*28)/255.0, correct_train, \r\n",
        "         X_test.reshape(10000, 28*28)/255.0, correct_test, \r\n",
        "         eta=0.01, check_eta=1000, steps=10000, logs_by_steps=100)\r\n",
        "NNs.append(NN_2)\r\n",
        "with open('NN_2.pkl', 'wb') as fid:\r\n",
        "  pickle.dump(NN_2, fid)"
      ],
      "execution_count": null,
      "outputs": []
    },
    {
      "cell_type": "markdown",
      "metadata": {
        "id": "tw85Bm55JDZA"
      },
      "source": [
        "### Example 3\r\n",
        "\r\n",
        "Committee of 25 NNs 784 + 300\r\n",
        "\r\n",
        "10 000 steps"
      ]
    },
    {
      "cell_type": "code",
      "metadata": {
        "id": "Hi4pmlenJtro"
      },
      "source": [
        "committee_1 = Committee([28*28, 300, 10], 25)\r\n",
        "committee_1.fit(X_train.reshape(60000, 28*28)/255.0, correct_train,\r\n",
        "                X_test.reshape(10000, 28*28)/255.0, correct_test, \r\n",
        "                eta=0.01, check_eta=1000, steps=10000, logs_by_steps=10000)\r\n",
        "committees.append(committee_1)\r\n",
        "with open('committee_1.pkl', 'wb') as fid:\r\n",
        "  pickle.dump(committee_1, fid)"
      ],
      "execution_count": null,
      "outputs": []
    },
    {
      "cell_type": "markdown",
      "metadata": {
        "id": "brJ4Zh2L6wbg"
      },
      "source": [
        "### Example 4\r\n",
        "\r\n",
        "NN 784 + 300\r\n",
        "\r\n",
        "1 500 000 steps"
      ]
    },
    {
      "cell_type": "code",
      "metadata": {
        "id": "McWi0i4AzSZc",
        "colab": {
          "base_uri": "https://localhost:8080/"
        },
        "outputId": "556d2531-9cad-4015-9520-dfe3b70d97d1"
      },
      "source": [
        "NN_3 = MLP([28*28, 300, 10], True)\r\n",
        "NN_3.fit(X_train.reshape(60000, 28*28)/255.0, correct_train, \r\n",
        "         X_test.reshape(10000, 28*28)/255.0, correct_test, \r\n",
        "         eta=0.01, check_eta=200000, steps=1500000, logs_by_steps=100000)\r\n",
        "NNs.append(NN_3)\r\n",
        "with open('NN_3.pkl', 'wb') as fid:\r\n",
        "  pickle.dump(NN_3, fid)"
      ],
      "execution_count": null,
      "outputs": [
        {
          "output_type": "stream",
          "text": [
            "new MLP (784 -> 300 -> 10)\n",
            "\n",
            "Step: 0, learning rate: 0.01\n",
            "========================================\n",
            "Correct predicts:\n",
            "\ttrain data\t11.04%\n",
            "\ttest data\t10.85%\n",
            "MSE:\n",
            "\ttrain data\t15.33003\n",
            "\ttest data\t15.4857\n",
            "Time: 00:00:08.93\n",
            "\n",
            "Step: 100000, learning rate: 0.01\n",
            "========================================\n",
            "Correct predicts:\n",
            "\ttrain data\t86.81%\n",
            "\ttest data\t87.45%\n",
            "MSE:\n",
            "\ttrain data\t2.19193\n",
            "\ttest data\t2.1144\n",
            "Time: 00:01:54.23\n",
            "\n",
            "Step: 200000, learning rate: 0.01\n",
            "========================================\n",
            "Correct predicts:\n",
            "\ttrain data\t87.06%\n",
            "\ttest data\t87.33%\n",
            "MSE:\n",
            "\ttrain data\t2.18238\n",
            "\ttest data\t2.1749\n",
            "Time: 00:03:40.28\n",
            "\n",
            "Step: 300000, learning rate: 0.001\n",
            "========================================\n",
            "Correct predicts:\n",
            "\ttrain data\t87.11%\n",
            "\ttest data\t87.41%\n",
            "MSE:\n",
            "\ttrain data\t2.18123\n",
            "\ttest data\t2.1512\n",
            "Time: 00:05:32.32\n",
            "\n",
            "Step: 400000, learning rate: 0.001\n",
            "========================================\n",
            "Correct predicts:\n",
            "\ttrain data\t87.1%\n",
            "\ttest data\t87.43%\n",
            "MSE:\n",
            "\ttrain data\t2.1879\n",
            "\ttest data\t2.1532\n",
            "Time: 00:07:18.88\n",
            "\n",
            "Step: 500000, learning rate: 0.0001\n",
            "========================================\n",
            "Correct predicts:\n",
            "\ttrain data\t87.09%\n",
            "\ttest data\t87.44%\n",
            "MSE:\n",
            "\ttrain data\t2.18547\n",
            "\ttest data\t2.1551\n",
            "Time: 00:09:05.03\n",
            "\n",
            "Step: 600000, learning rate: 0.0001\n",
            "========================================\n",
            "Correct predicts:\n",
            "\ttrain data\t87.09%\n",
            "\ttest data\t87.45%\n",
            "MSE:\n",
            "\ttrain data\t2.18493\n",
            "\ttest data\t2.1488\n",
            "Time: 00:10:51.33\n",
            "\n",
            "Step: 700000, learning rate: 0.0001\n",
            "========================================\n",
            "Correct predicts:\n",
            "\ttrain data\t87.09%\n",
            "\ttest data\t87.45%\n",
            "MSE:\n",
            "\ttrain data\t2.18347\n",
            "\ttest data\t2.1467\n",
            "Time: 00:12:37.59\n",
            "\n",
            "Step: 800000, learning rate: 0.0001\n",
            "========================================\n",
            "Correct predicts:\n",
            "\ttrain data\t87.11%\n",
            "\ttest data\t87.46%\n",
            "MSE:\n",
            "\ttrain data\t2.17948\n",
            "\ttest data\t2.1465\n",
            "Time: 00:14:24.03\n",
            "\n",
            "Step: 900000, learning rate: 0.0001\n",
            "========================================\n",
            "Correct predicts:\n",
            "\ttrain data\t87.1%\n",
            "\ttest data\t87.47%\n",
            "MSE:\n",
            "\ttrain data\t2.1796\n",
            "\ttest data\t2.1352\n",
            "Time: 00:16:09.46\n",
            "\n",
            "Step: 1000000, learning rate: 0.0001\n",
            "========================================\n",
            "Correct predicts:\n",
            "\ttrain data\t87.1%\n",
            "\ttest data\t87.45%\n",
            "MSE:\n",
            "\ttrain data\t2.18275\n",
            "\ttest data\t2.1538\n",
            "Time: 00:17:55.75\n",
            "\n",
            "Learning finished after 1500000 steps.\n",
            "========================================\n",
            "Correct predicts:\n",
            "\train data\t87.1%\n",
            "\ttest data\t87.45%\n",
            "MSE:\n",
            "\ttrain data\t2.18275\n",
            "\ttest data\t2.1538\n",
            "Time: 00:18:04.68\n"
          ],
          "name": "stdout"
        },
        {
          "output_type": "display_data",
          "data": {
            "image/png": "[encoded data removed]",
            "text/plain": [
              "<Figure size 432x288 with 1 Axes>"
            ]
          },
          "metadata": {
            "tags": [],
            "needs_background": "light"
          }
        },
        {
          "output_type": "display_data",
          "data": {
            "image/png": "[encoded data removed]",
            "text/plain": [
              "<Figure size 432x288 with 1 Axes>"
            ]
          },
          "metadata": {
            "tags": [],
            "needs_background": "light"
          }
        },
        {
          "output_type": "error",
          "ename": "NameError",
          "evalue": "ignored",
          "traceback": [
            "\u001b[0;31m---------------------------------------------------------------------------\u001b[0m",
            "\u001b[0;31mNameError\u001b[0m                                 Traceback (most recent call last)",
            "\u001b[0;32m<ipython-input-14-51615be37918>\u001b[0m in \u001b[0;36m<module>\u001b[0;34m()\u001b[0m\n\u001b[1;32m      3\u001b[0m          \u001b[0mX_test\u001b[0m\u001b[0;34m.\u001b[0m\u001b[0mreshape\u001b[0m\u001b[0;34m(\u001b[0m\u001b[0;36m10000\u001b[0m\u001b[0;34m,\u001b[0m \u001b[0;36m28\u001b[0m\u001b[0;34m*\u001b[0m\u001b[0;36m28\u001b[0m\u001b[0;34m)\u001b[0m\u001b[0;34m/\u001b[0m\u001b[0;36m255.0\u001b[0m\u001b[0;34m,\u001b[0m \u001b[0mcorrect_test\u001b[0m\u001b[0;34m,\u001b[0m\u001b[0;34m\u001b[0m\u001b[0;34m\u001b[0m\u001b[0m\n\u001b[1;32m      4\u001b[0m          eta=0.01, check_eta=200000, steps=1500000, logs_by_steps=100000)\n\u001b[0;32m----> 5\u001b[0;31m \u001b[0mNNs\u001b[0m\u001b[0;34m.\u001b[0m\u001b[0mappend\u001b[0m\u001b[0;34m(\u001b[0m\u001b[0mNN_3\u001b[0m\u001b[0;34m)\u001b[0m\u001b[0;34m\u001b[0m\u001b[0;34m\u001b[0m\u001b[0m\n\u001b[0m\u001b[1;32m      6\u001b[0m \u001b[0;32mwith\u001b[0m \u001b[0mopen\u001b[0m\u001b[0;34m(\u001b[0m\u001b[0;34m'NN_3.pkl'\u001b[0m\u001b[0;34m,\u001b[0m \u001b[0;34m'wb'\u001b[0m\u001b[0;34m)\u001b[0m \u001b[0;32mas\u001b[0m \u001b[0mfid\u001b[0m\u001b[0;34m:\u001b[0m\u001b[0;34m\u001b[0m\u001b[0;34m\u001b[0m\u001b[0m\n\u001b[1;32m      7\u001b[0m   \u001b[0mpickle\u001b[0m\u001b[0;34m.\u001b[0m\u001b[0mdump\u001b[0m\u001b[0;34m(\u001b[0m\u001b[0mNN_3\u001b[0m\u001b[0;34m,\u001b[0m \u001b[0mfid\u001b[0m\u001b[0;34m)\u001b[0m\u001b[0;34m\u001b[0m\u001b[0;34m\u001b[0m\u001b[0m\n",
            "\u001b[0;31mNameError\u001b[0m: name 'NNs' is not defined"
          ]
        }
      ]
    },
    {
      "cell_type": "markdown",
      "metadata": {
        "id": "N1usQO1f6_d8"
      },
      "source": [
        "### Example 5\r\n",
        "NN 784 + 300 + 150\r\n",
        "\r\n",
        "1 500 000 steps"
      ]
    },
    {
      "cell_type": "code",
      "metadata": {
        "id": "Q6ZpRSUA9m6-"
      },
      "source": [
        "NN_4 = MLP([28*28, 300, 150, 10], True)\r\n",
        "NN_4.fit(X_train.reshape(60000, 28*28)/255.0, correct_train, \r\n",
        "         X_test.reshape(10000, 28*28)/255.0, correct_test, \r\n",
        "         eta=0.01, check_eta=200000, steps=1500000, logs_by_steps=100000)\r\n",
        "NNs.append(NN_4)\r\n",
        "with open('NN_4.pkl', 'wb') as fid:\r\n",
        "  pickle.dump(NN_4, fid)"
      ],
      "execution_count": null,
      "outputs": []
    },
    {
      "cell_type": "markdown",
      "metadata": {
        "id": "T7_3-YOM_uAv"
      },
      "source": [
        "### Example 6\r\n",
        "\r\n",
        "Committee of 10 NNs 784 + 300 + 150\r\n",
        "\r\n",
        "10 000 steps"
      ]
    },
    {
      "cell_type": "code",
      "metadata": {
        "id": "5tAs1kR6_tPp"
      },
      "source": [
        "committee_2 = Committee([28*28, 300, 150, 10], 25)\r\n",
        "committee_2.fit(X_train.reshape(60000, 28*28)/255.0, correct_train,\r\n",
        "                X_test.reshape(10000, 28*28)/255.0, correct_test, \r\n",
        "                eta=0.01, check_eta=1000, steps=10000, logs_by_steps=10000)\r\n",
        "committees.append(committee_2)\r\n",
        "with open('committee_2.pkl', 'wb') as fid:\r\n",
        "  pickle.dump(committee_2, fid)"
      ],
      "execution_count": null,
      "outputs": []
    },
    {
      "cell_type": "markdown",
      "metadata": {
        "id": "7J-uo8OYMnVM"
      },
      "source": [
        "### Example 7\r\n",
        "\r\n",
        "Committee of 10 NNs 784 + 300\r\n",
        "\r\n",
        "1 000 000 steps"
      ]
    },
    {
      "cell_type": "code",
      "metadata": {
        "id": "K5x2azAiMtZP"
      },
      "source": [
        "committee_3 = Committee([28*28, 300, 10], 10)\r\n",
        "committee_3.fit(X_train.reshape(60000, 28*28)/255.0, correct_train,\r\n",
        "                X_test.reshape(10000, 28*28)/255.0, correct_test, \r\n",
        "                eta=0.01, check_eta=250000, steps=1000000, logs_by_steps=250000)\r\n",
        "committees.append(committee_3)\r\n",
        "with open('committee_3.pkl', 'wb') as fid:\r\n",
        "  pickle.dump(committee_3, fid)"
      ],
      "execution_count": null,
      "outputs": []
    },
    {
      "cell_type": "markdown",
      "metadata": {
        "id": "WWQRhQE07wbL"
      },
      "source": [
        "### Example 7\r\n",
        "\r\n",
        "NN 2500 + 1500 + 1000 + 500\r\n",
        "\r\n",
        "1 000 000 steps"
      ]
    },
    {
      "cell_type": "code",
      "metadata": {
        "id": "2d1g973j78xA"
      },
      "source": [
        "NN_5 = MLP([28*28, 1500, 1000, 500, 10], True)\r\n",
        "NN_5.fit(X_train.reshape(60000, 28*28)/255.0, correct_train, \r\n",
        "         X_test.reshape(10000, 28*28)/255.0, correct_test, \r\n",
        "         eta=0.001, check_eta=250000, steps=1000000, logs_by_steps=250000)\r\n",
        "NNs.append(NN_5)\r\n",
        "with open('NN_5.pkl', 'wb') as fid:\r\n",
        "  pickle.dump(NN_5, fid)"
      ],
      "execution_count": null,
      "outputs": []
    }
  ]
}