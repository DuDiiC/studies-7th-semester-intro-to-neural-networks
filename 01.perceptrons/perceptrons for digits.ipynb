{
 "cells": [
  {
   "cell_type": "code",
   "execution_count": 1,
   "metadata": {
    "id": "7dRwXBT0ZaRO"
   },
   "outputs": [],
   "source": [
    "import numpy as np"
   ]
  },
  {
   "cell_type": "markdown",
   "metadata": {
    "id": "sHNQk7l3RI6l"
   },
   "source": [
    "# Simple Perceptron Learning Algorithm"
   ]
  },
  {
   "cell_type": "code",
   "execution_count": 2,
   "metadata": {
    "id": "xkp2LuV1ZeOc"
   },
   "outputs": [],
   "source": [
    "class SPLA:\n",
    "  def __init__(self, size, learning_set, answers, learning_rate = 0.1):\n",
    "    self.size = size\n",
    "    self.learning_set = learning_set\n",
    "    self.answers = answers\n",
    "    self.learning_rate = learning_rate\n",
    "    self.weights = np.random.randn(size + 1)\n",
    "\n",
    "  def train(self, iterations):\n",
    "    for i in range(iterations):\n",
    "      tmp_i = np.random.randint(0, self.learning_set.shape[0])\n",
    "      tmp_j = np.random.randint(0, self.learning_set.shape[1])\n",
    "      predict = self.forward(self.learning_set[tmp_i, tmp_j])\n",
    "      if self.answers[5*tmp_i + tmp_j] - predict != 0:\n",
    "        self.weights[1:] += self.learning_rate * (self.answers[5*tmp_i + tmp_j] - predict) * self.learning_set[tmp_i, tmp_j]\n",
    "        self.weights[0] += self.learning_rate * (self.answers[5*tmp_i + tmp_j] - predict)\n",
    "\n",
    "  def forward(self, data):\n",
    "    dot = np.dot(data, self.weights[1:]) + self.weights[0]\n",
    "    return self.activ_func(dot)\n",
    "\n",
    "  def activ_func(self, dot):\n",
    "    return 1 if dot >= 0 else -1\n",
    "\n",
    "  def predict(self, data):\n",
    "    return self.forward(data)"
   ]
  },
  {
   "cell_type": "markdown",
   "metadata": {
    "id": "oPQswJOORMIk"
   },
   "source": [
    "# Pocket Learning Algorithm"
   ]
  },
  {
   "cell_type": "code",
   "execution_count": 3,
   "metadata": {
    "id": "W5X5jP6Pfa31"
   },
   "outputs": [],
   "source": [
    "class PLA:\n",
    "  def __init__(self, size, learning_set, answers, learning_rate = 0.1):\n",
    "    self.size = size\n",
    "    self.learning_set = learning_set\n",
    "    self.answers = answers\n",
    "    self.learning_rate = learning_rate\n",
    "    self.weights = np.random.randn(size + 1)\n",
    "    self.best_weights = self.weights\n",
    "    self.best_lifetime = 0\n",
    "    self.current_lifetime = 0\n",
    "\n",
    "  def train(self, iterations):\n",
    "    for i in range(iterations):\n",
    "      tmp_i = np.random.randint(0, self.learning_set.shape[0])\n",
    "      tmp_j = np.random.randint(0, self.learning_set.shape[1])\n",
    "      predict = self.forward(self.learning_set[tmp_i][tmp_j])\n",
    "      if self.answers[5*tmp_i + tmp_j] - predict != 0:\n",
    "        self.weights[1:] += self.learning_rate * (self.answers[5*tmp_i + tmp_j] - predict) * self.learning_set[tmp_i][tmp_j]\n",
    "        self.weights[0] += self.learning_rate * (self.answers[5*tmp_i + tmp_j] - predict)\n",
    "        self.current_lifetime = 0\n",
    "      else:\n",
    "        self.current_lifetime += 1\n",
    "        if(self.current_lifetime > self.best_lifetime):\n",
    "          self.best_lifetime = self.current_lifetime\n",
    "          if (self.best_weights != self.weights).all():\n",
    "            self.best_weights = np.copy(self.weights)\n",
    "\n",
    "  def forward(self, data):\n",
    "    dot = np.dot(data, self.weights[1:]) + self.weights[0]\n",
    "    return self.activ_func(dot)\n",
    "\n",
    "  def forward_predict(self, data):\n",
    "    dot = np.dot(data, self.best_weights[1:]) + self.best_weights[0]\n",
    "    return self.activ_func(dot)\n",
    "\n",
    "  def activ_func(self, dot):\n",
    "    return 1 if dot >= 0 else -1\n",
    "\n",
    "  def predict(self, data):\n",
    "    return self.forward_predict(data)"
   ]
  },
  {
   "cell_type": "markdown",
   "metadata": {
    "id": "ay_ayTcQROd4"
   },
   "source": [
    "# Pocket Learning Algorithm with Ratchet"
   ]
  },
  {
   "cell_type": "code",
   "execution_count": 4,
   "metadata": {
    "id": "0z7bT-7_gkLd"
   },
   "outputs": [],
   "source": [
    "class PLAR:\n",
    "  def __init__(self, size, learning_set, answers, learning_rate = 0.1):\n",
    "    self.size = size\n",
    "    self.learning_set = learning_set\n",
    "    self.answers = answers\n",
    "    self.learning_rate = learning_rate\n",
    "    self.weights = np.random.randn(size + 1)\n",
    "    self.best_weights = self.weights\n",
    "    self.best_lifetime = 0\n",
    "    self.best_predict_number = 0\n",
    "    self.current_lifetime = 0\n",
    "\n",
    "  def train(self, iterations):\n",
    "    for i in range(iterations):\n",
    "      tmp_i = np.random.randint(0, self.learning_set.shape[0])\n",
    "      tmp_j = np.random.randint(0, self.learning_set.shape[1])\n",
    "      predict = self.forward(self.learning_set[tmp_i][tmp_j])\n",
    "      if self.answers[5*tmp_i + tmp_j] - predict != 0:\n",
    "        self.weights[1:] += self.learning_rate * (self.answers[5*tmp_i + tmp_j] - predict) * self.learning_set[tmp_i][tmp_j]\n",
    "        self.weights[0] += self.learning_rate * (self.answers[5*tmp_i + tmp_j] - predict)\n",
    "        self.current_lifetime = 0\n",
    "      else:\n",
    "        self.current_lifetime += 1\n",
    "        current_predict_number = self.current_predict_number()\n",
    "        if(self.current_lifetime > self.best_lifetime & current_predict_number > self.best_predict_number):\n",
    "          self.best_predict_number = current_predict_number\n",
    "          self.best_lifetime = self.current_lifetime\n",
    "          if (self.best_weights != self.weights).all():\n",
    "            self.best_weights = np.copy(self.weights)\n",
    "\n",
    "  def forward(self, data):\n",
    "    dot = np.dot(data, self.weights[1:]) + self.weights[0]\n",
    "    return self.activ_func(dot)\n",
    "\n",
    "  def forward_predict(self, data):\n",
    "    dot = np.dot(data, self.best_weights[1:]) + self.best_weights[0]\n",
    "    return self.activ_func(dot)\n",
    "\n",
    "  def activ_func(self, dot):\n",
    "    return 1 if dot >= 0 else -1\n",
    "\n",
    "  def predict(self, data):\n",
    "    return self.forward_predict(data)\n",
    "\n",
    "  def current_predict_number(self):\n",
    "    correct_number = 0\n",
    "    for i in range(10):\n",
    "      for j in range(5):\n",
    "        if self.forward(self.learning_set[i][j] == self.answers[5*i + j]):\n",
    "          correct_number += 1\n",
    "    return correct_number"
   ]
  },
  {
   "cell_type": "markdown",
   "metadata": {
    "id": "XMv0X_i1Q0hy"
   },
   "source": [
    "# Using perceptrons"
   ]
  },
  {
   "cell_type": "markdown",
   "metadata": {
    "id": "B2R4LzekRlK4"
   },
   "source": [
    "Data preparation"
   ]
  },
  {
   "cell_type": "code",
   "execution_count": 5,
   "metadata": {
    "id": "zrKaa6wtZv5K"
   },
   "outputs": [],
   "source": [
    "text_data = np.empty([10, 35, 5], dtype='float32')\n",
    "for i in range(10):\n",
    "  text_data[i] = np.loadtxt('digits/' + str(i) + '.txt')"
   ]
  },
  {
   "cell_type": "code",
   "execution_count": 6,
   "metadata": {
    "id": "p75_k6maa3kR"
   },
   "outputs": [],
   "source": [
    "numbers_separated = np.empty([10, 5, 7, 5], dtype='float32')\n",
    "for i in range(10):\n",
    "  numbers_separated[i] = np.array_split(text_data[i], 5)"
   ]
  },
  {
   "cell_type": "code",
   "execution_count": 7,
   "metadata": {
    "id": "udJJYZTqa6kK"
   },
   "outputs": [],
   "source": [
    "numbers = np.empty([10, 5, 35], dtype='float32')\n",
    "for i in range(10):\n",
    "  for j in range(5):\n",
    "    numbers[i][j] = numbers_separated[i][j].flatten()"
   ]
  },
  {
   "cell_type": "code",
   "execution_count": 8,
   "metadata": {
    "id": "cj-jrV4vZ_jY"
   },
   "outputs": [],
   "source": [
    "E = np.copy(numbers)"
   ]
  },
  {
   "cell_type": "markdown",
   "metadata": {
    "id": "Z4t9OFh0Q5cX"
   },
   "source": [
    "Matrix of correct answers"
   ]
  },
  {
   "cell_type": "code",
   "execution_count": 9,
   "metadata": {
    "id": "eeFFkkzPZ_5k"
   },
   "outputs": [],
   "source": [
    "T = np.full((10, 10 * 5), -1, dtype='int')\n",
    "for i in range(10):\n",
    "  T[i][i*5 : i*5 + 5] = 1"
   ]
  },
  {
   "cell_type": "markdown",
   "metadata": {
    "id": "zusZK9i-RCRo"
   },
   "source": [
    "Create perceptrons"
   ]
  },
  {
   "cell_type": "code",
   "execution_count": 10,
   "metadata": {
    "id": "qvnLpYvaaBF9"
   },
   "outputs": [],
   "source": [
    "SPLAs = []\n",
    "PLAs = []\n",
    "PLARs = []\n",
    "for i in range(10):\n",
    "  SPLAs.append(SPLA(35, E, T[i]))\n",
    "  PLAs.append(PLA(35, E, T[i]))\n",
    "  PLARs.append(PLAR(35, E, T[i]))"
   ]
  },
  {
   "cell_type": "markdown",
   "metadata": {
    "id": "SavziYtOQ_0X"
   },
   "source": [
    "Learning"
   ]
  },
  {
   "cell_type": "code",
   "execution_count": 11,
   "metadata": {
    "id": "vlfLM_Y-aEQr"
   },
   "outputs": [],
   "source": [
    "for i in range(10):\n",
    "  SPLAs[i].train(2500)\n",
    "  PLAs[i].train(2500)\n",
    "  PLARs[i].train(2500)"
   ]
  },
  {
   "cell_type": "markdown",
   "metadata": {
    "id": "3l4VYvU4RrrX"
   },
   "source": [
    "Checking the operation of perceptrons on training data"
   ]
  },
  {
   "cell_type": "code",
   "execution_count": 12,
   "metadata": {
    "id": "v3XYZZ9laGJN"
   },
   "outputs": [],
   "source": [
    "SPLAs_predict = np.zeros(10)\n",
    "PLAs_predict = np.zeros(10)\n",
    "PLARs_predict = np.zeros(10)\n",
    "for i in range(10):\n",
    "  for digit in range(10):\n",
    "    for example in range(5):\n",
    "      if(SPLAs[i].predict(E[digit][example]) == T[i][digit*5 + example]):\n",
    "        SPLAs_predict[i] += 1\n",
    "      else:\n",
    "        print(f'SPLA {i} {digit} {example}')\n",
    "      if(PLAs[i].predict(E[digit][example]) == T[i][digit*5 + example]):\n",
    "        PLAs_predict[i] += 1\n",
    "      else:\n",
    "        print(f'PLA {i} {digit} {example}')\n",
    "      if(PLARs[i].predict(E[digit][example]) == T[i][digit*5 + example]):\n",
    "        PLARs_predict[i] += 1\n",
    "      else:\n",
    "        print(f'PLAR {i} {digit} {example}')"
   ]
  },
  {
   "cell_type": "markdown",
   "metadata": {
    "id": "2GYKHG42Rvgt"
   },
   "source": [
    "Learning outcomes"
   ]
  },
  {
   "cell_type": "code",
   "execution_count": 13,
   "metadata": {
    "colab": {
     "base_uri": "https://localhost:8080/",
     "height": 34
    },
    "executionInfo": {
     "elapsed": 9138,
     "status": "ok",
     "timestamp": 1603827035545,
     "user": {
      "displayName": "DuDiiC",
      "photoUrl": "https://lh6.googleusercontent.com/-2FfMjEDSAkQ/AAAAAAAAAAI/AAAAAAAAB-0/38kvRzPlWh4/s64/photo.jpg",
      "userId": "03134040302663534720"
     },
     "user_tz": -60
    },
    "id": "2I2noj4eaKj3",
    "outputId": "12cccc93-1322-4c0a-cbe6-fdb0c47f6f2f"
   },
   "outputs": [
    {
     "data": {
      "text/plain": [
       "array([50., 50., 50., 50., 50., 50., 50., 50., 50., 50.])"
      ]
     },
     "execution_count": 13,
     "metadata": {},
     "output_type": "execute_result"
    }
   ],
   "source": [
    "SPLAs_predict"
   ]
  },
  {
   "cell_type": "code",
   "execution_count": 14,
   "metadata": {
    "colab": {
     "base_uri": "https://localhost:8080/",
     "height": 34
    },
    "executionInfo": {
     "elapsed": 9122,
     "status": "ok",
     "timestamp": 1603827035546,
     "user": {
      "displayName": "DuDiiC",
      "photoUrl": "https://lh6.googleusercontent.com/-2FfMjEDSAkQ/AAAAAAAAAAI/AAAAAAAAB-0/38kvRzPlWh4/s64/photo.jpg",
      "userId": "03134040302663534720"
     },
     "user_tz": -60
    },
    "id": "ML0SRBJ_gMCy",
    "outputId": "79ed0639-9597-4554-e2b9-50bad7294770"
   },
   "outputs": [
    {
     "data": {
      "text/plain": [
       "array([50., 50., 50., 50., 50., 50., 50., 50., 50., 50.])"
      ]
     },
     "execution_count": 14,
     "metadata": {},
     "output_type": "execute_result"
    }
   ],
   "source": [
    "PLAs_predict"
   ]
  },
  {
   "cell_type": "code",
   "execution_count": 15,
   "metadata": {
    "colab": {
     "base_uri": "https://localhost:8080/",
     "height": 34
    },
    "executionInfo": {
     "elapsed": 9112,
     "status": "ok",
     "timestamp": 1603827035547,
     "user": {
      "displayName": "DuDiiC",
      "photoUrl": "https://lh6.googleusercontent.com/-2FfMjEDSAkQ/AAAAAAAAAAI/AAAAAAAAB-0/38kvRzPlWh4/s64/photo.jpg",
      "userId": "03134040302663534720"
     },
     "user_tz": -60
    },
    "id": "EdRmEiF8hJJj",
    "outputId": "89bcab16-4819-438e-b1cc-d6c76fb946db"
   },
   "outputs": [
    {
     "data": {
      "text/plain": [
       "array([50., 50., 50., 50., 50., 50., 50., 50., 50., 50.])"
      ]
     },
     "execution_count": 15,
     "metadata": {},
     "output_type": "execute_result"
    }
   ],
   "source": [
    "PLARs_predict"
   ]
  },
  {
   "cell_type": "code",
   "execution_count": 16,
   "metadata": {
    "colab": {
     "base_uri": "https://localhost:8080/",
     "height": 35
    },
    "executionInfo": {
     "elapsed": 9098,
     "status": "ok",
     "timestamp": 1603827035549,
     "user": {
      "displayName": "DuDiiC",
      "photoUrl": "https://lh6.googleusercontent.com/-2FfMjEDSAkQ/AAAAAAAAAAI/AAAAAAAAB-0/38kvRzPlWh4/s64/photo.jpg",
      "userId": "03134040302663534720"
     },
     "user_tz": -60
    },
    "id": "DfdiFuc2aNL0",
    "outputId": "f18f2375-1e26-46b2-d30e-2d7e95c0a57b"
   },
   "outputs": [
    {
     "data": {
      "text/plain": [
       "'100.0 % correct answers to training data for SLPA.'"
      ]
     },
     "execution_count": 16,
     "metadata": {},
     "output_type": "execute_result"
    }
   ],
   "source": [
    "f'{round(np.sum(SPLAs_predict) / 500 * 100, 1)} % correct answers to training data for SLPA.'"
   ]
  },
  {
   "cell_type": "code",
   "execution_count": 17,
   "metadata": {
    "colab": {
     "base_uri": "https://localhost:8080/",
     "height": 35
    },
    "executionInfo": {
     "elapsed": 9085,
     "status": "ok",
     "timestamp": 1603827035550,
     "user": {
      "displayName": "DuDiiC",
      "photoUrl": "https://lh6.googleusercontent.com/-2FfMjEDSAkQ/AAAAAAAAAAI/AAAAAAAAB-0/38kvRzPlWh4/s64/photo.jpg",
      "userId": "03134040302663534720"
     },
     "user_tz": -60
    },
    "id": "hwe0E-LsgNy3",
    "outputId": "16179668-fd3c-4d30-e0b1-fca1c294706b"
   },
   "outputs": [
    {
     "data": {
      "text/plain": [
       "'100.0 % correct answers to training data for PLA.'"
      ]
     },
     "execution_count": 17,
     "metadata": {},
     "output_type": "execute_result"
    }
   ],
   "source": [
    "f'{round(np.sum(PLAs_predict) / 500 * 100, 1)} % correct answers to training data for PLA.'"
   ]
  },
  {
   "cell_type": "code",
   "execution_count": 18,
   "metadata": {
    "colab": {
     "base_uri": "https://localhost:8080/",
     "height": 35
    },
    "executionInfo": {
     "elapsed": 9073,
     "status": "ok",
     "timestamp": 1603827035551,
     "user": {
      "displayName": "DuDiiC",
      "photoUrl": "https://lh6.googleusercontent.com/-2FfMjEDSAkQ/AAAAAAAAAAI/AAAAAAAAB-0/38kvRzPlWh4/s64/photo.jpg",
      "userId": "03134040302663534720"
     },
     "user_tz": -60
    },
    "id": "sIg1b0IihLL8",
    "outputId": "120095f7-8c96-4741-c949-e182dc0187e3"
   },
   "outputs": [
    {
     "data": {
      "text/plain": [
       "'100.0 % correct answers to training data for PLAR.'"
      ]
     },
     "execution_count": 18,
     "metadata": {},
     "output_type": "execute_result"
    }
   ],
   "source": [
    "f'{round(np.sum(PLARs_predict) / 500 * 100, 1)} % correct answers to training data for PLAR.'"
   ]
  }
 ],
 "metadata": {
  "colab": {
   "authorship_tag": "ABX9TyNXB7pIekRXEGKDyjEUy/X1",
   "collapsed_sections": [],
   "name": "01.perceptrony rozpoznające cyfry.ipynb",
   "provenance": []
  },
  "kernelspec": {
   "display_name": "Python 3",
   "language": "python",
   "name": "python3"
  },
  "language_info": {
   "codemirror_mode": {
    "name": "ipython",
    "version": 3
   },
   "file_extension": ".py",
   "mimetype": "text/x-python",
   "name": "python",
   "nbconvert_exporter": "python",
   "pygments_lexer": "ipython3",
   "version": "3.7.6"
  }
 },
 "nbformat": 4,
 "nbformat_minor": 1
}
